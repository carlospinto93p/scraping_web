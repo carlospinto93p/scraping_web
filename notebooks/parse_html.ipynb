{
 "cells": [
  {
   "cell_type": "markdown",
   "source": [
    "## Instalación"
   ],
   "metadata": {
    "collapsed": false
   }
  },
  {
   "cell_type": "code",
   "execution_count": null,
   "outputs": [],
   "source": [
    "!pip install beautifulsoup4 \n",
    "!pip install tqdm"
   ],
   "metadata": {
    "collapsed": false
   }
  },
  {
   "cell_type": "markdown",
   "source": [
    "## Configuración"
   ],
   "metadata": {
    "collapsed": false
   }
  },
  {
   "cell_type": "code",
   "execution_count": 1,
   "outputs": [],
   "source": [
    "from bs4 import BeautifulSoup\n",
    "from requests import get\n",
    "\n",
    "from tqdm.notebook import tqdm\n",
    "\n",
    "\n",
    "year, month = 2024, 1\n",
    "url = f'https://www.marbella.es/agenda/eventospormes/{year}/{month}.html'"
   ],
   "metadata": {
    "collapsed": false,
    "ExecuteTime": {
     "end_time": "2024-01-20T12:20:11.013591300Z",
     "start_time": "2024-01-20T12:20:10.290767Z"
    }
   }
  },
  {
   "cell_type": "markdown",
   "source": [
    "### Peticiones web"
   ],
   "metadata": {
    "collapsed": false
   }
  },
  {
   "cell_type": "code",
   "execution_count": 2,
   "outputs": [
    {
     "data": {
      "text/plain": "<Response [200]>"
     },
     "execution_count": 2,
     "metadata": {},
     "output_type": "execute_result"
    }
   ],
   "source": [
    "response = get(url)\n",
    "response"
   ],
   "metadata": {
    "collapsed": false,
    "ExecuteTime": {
     "end_time": "2024-01-20T12:21:22.355421100Z",
     "start_time": "2024-01-20T12:21:12.507222700Z"
    }
   }
  },
  {
   "cell_type": "code",
   "execution_count": 4,
   "outputs": [
    {
     "name": "stdout",
     "output_type": "stream",
     "text": [
      "len(large_text) = 54321\n",
      "<!DOCTYPE HTML>\n",
      "<html prefix=\"og: http://ogp.me/ns#\" lang=\"es-es\" dir=\"ltr\">\n",
      "    <head>\n",
      "        <meta charset=\"utf-8\">\n",
      "        <base href=\"https://www.marbella.es/agenda/crawler.listevents/-.html\" />\n",
      "\t<meta http-equiv=\"content-type\" content=\"text/html; charset=utf-8\" />\n",
      "\t<meta name=\"keywords\" conten\n",
      "\n",
      "...\n",
      "\n",
      "n-step-forward\"></i>\t\t</a>\n",
      "\t</li>\n",
      "\t<li>\n",
      "\t\t<a class=\"hasTooltip\"  title=\"Final\"  href=\"/agenda/crawler.listevents/-.html?start=8800\">\n",
      "\t\t\t<i class=\"icon-forward\"></i>\t\t</a>\n",
      "\t</li>\n",
      "\t\t</ul>\n",
      "\t\n",
      "\t\t\t<input type=\"hidden\" name=\"limitstart\"\n",
      "\t\t       value=\"0\"/>\n",
      "\t\n",
      "</div>\n",
      "\t\t</form>\n",
      "\t</div>\n",
      "\t\n",
      "    </body>\n",
      "</html>\n"
     ]
    }
   ],
   "source": [
    "text = response.text\n",
    "\n",
    "def preview_text(large_text: str) -> None:\n",
    "    print(f'{len(large_text) = }')\n",
    "    print(f'{large_text[:300]}\\n\\n...\\n\\n{large_text[-300:]}')\n",
    "\n",
    "preview_text(text)"
   ],
   "metadata": {
    "collapsed": false,
    "ExecuteTime": {
     "end_time": "2024-01-20T12:21:29.940526800Z",
     "start_time": "2024-01-20T12:21:29.915155500Z"
    }
   }
  },
  {
   "cell_type": "markdown",
   "source": [
    "Podemos notar que hay referencias al endpoint `https://www.marbella.es/agenda/crawler.listevents/-.html?start=6900`, pero en este ejercicio lo vamos a ignorar."
   ],
   "metadata": {
    "collapsed": false
   }
  },
  {
   "cell_type": "markdown",
   "source": [
    "Es posible que una request como la anterior no nos devuelva el mismo resultado que recibimos con una navegación normal. En ese caso, podemos intentar añadir headers que indiquen el navegador web que (teóricamente) estamos utilizando."
   ],
   "metadata": {
    "collapsed": false
   }
  },
  {
   "cell_type": "code",
   "execution_count": 5,
   "outputs": [
    {
     "data": {
      "text/plain": "<Response [200]>"
     },
     "execution_count": 5,
     "metadata": {},
     "output_type": "execute_result"
    }
   ],
   "source": [
    "headers = {'User-Agent': 'Mozilla/5.0 (Windows NT 10.0; Win64; x64; rv:109.0) Gecko/20100101 Firefox/109.0'}\n",
    "\n",
    "response = get(url, headers=headers)\n",
    "response"
   ],
   "metadata": {
    "collapsed": false,
    "ExecuteTime": {
     "end_time": "2024-01-20T12:21:40.935365500Z",
     "start_time": "2024-01-20T12:21:38.613091Z"
    }
   }
  },
  {
   "cell_type": "code",
   "execution_count": 6,
   "outputs": [
    {
     "name": "stdout",
     "output_type": "stream",
     "text": [
      "len(large_text) = 770166\n",
      "<!DOCTYPE html>\n",
      "<html prefix=\"og: http://ogp.me/ns#\" lang=\"es-es\" dir=\"ltr\">\n",
      "    <head>\n",
      "        <meta name=\"viewport\" content=\"width=device-width, initial-scale=1\">\n",
      "        <link rel=\"icon\" href=\"https://cdn.marbella.es/images/android-chrome-192x192.png\" sizes=\"any\">\n",
      "                <link rel=\"icon\"\n",
      "\n",
      "...\n",
      "\n",
      "lspy-class=\"uk-animation-slide-bottom\"><a href=\"#\" title=\"Volver al principio\" uk-totop uk-scroll></a></div>\n",
      "                \n",
      "            \n",
      "        \n",
      "    \n",
      "</div></div>\n",
      "    </div>\n",
      "\n",
      "    </div>\n",
      "\n",
      "\n",
      "    </div>\n",
      "\n",
      "\n",
      "</div>            </footer>\n",
      "            \n",
      "        </div>\n",
      "\n",
      "        \n",
      "        \n",
      "\n",
      "    </body>\n",
      "</html>\n"
     ]
    }
   ],
   "source": [
    "text = response.text\n",
    "\n",
    "preview_text(text)"
   ],
   "metadata": {
    "collapsed": false,
    "ExecuteTime": {
     "end_time": "2024-01-20T12:21:44.157255300Z",
     "start_time": "2024-01-20T12:21:44.136240600Z"
    }
   }
  },
  {
   "cell_type": "markdown",
   "source": [
    "Para procesar el html recibido utilizamos BeautifulSoup"
   ],
   "metadata": {
    "collapsed": false
   }
  },
  {
   "cell_type": "code",
   "execution_count": 7,
   "metadata": {
    "collapsed": true,
    "ExecuteTime": {
     "end_time": "2024-01-20T12:21:46.945549300Z",
     "start_time": "2024-01-20T12:21:46.848030200Z"
    }
   },
   "outputs": [],
   "source": [
    "soup = BeautifulSoup(response.text)\n",
    "# soup"
   ]
  },
  {
   "cell_type": "markdown",
   "source": [
    "Vamos a obtener todos los links que aparecen en la página"
   ],
   "metadata": {
    "collapsed": false
   }
  },
  {
   "cell_type": "code",
   "execution_count": 8,
   "outputs": [
    {
     "data": {
      "text/plain": "577"
     },
     "execution_count": 8,
     "metadata": {},
     "output_type": "execute_result"
    }
   ],
   "source": [
    "all_hrefs = [a['href'] for a in soup.find_all(href=True)]\n",
    "len(all_hrefs)"
   ],
   "metadata": {
    "collapsed": false,
    "ExecuteTime": {
     "end_time": "2024-01-20T12:22:01.887813400Z",
     "start_time": "2024-01-20T12:22:01.857813800Z"
    }
   }
  },
  {
   "cell_type": "markdown",
   "source": [
    "Y filtramos por links que apunten a eventos"
   ],
   "metadata": {
    "collapsed": false
   }
  },
  {
   "cell_type": "code",
   "execution_count": 9,
   "outputs": [
    {
     "data": {
      "text/plain": "265"
     },
     "execution_count": 9,
     "metadata": {},
     "output_type": "execute_result"
    }
   ],
   "source": [
    "event_links = list({e for e in all_hrefs if 'eventodetalle' in e})\n",
    "len(event_links)"
   ],
   "metadata": {
    "collapsed": false,
    "ExecuteTime": {
     "end_time": "2024-01-20T12:22:03.589342200Z",
     "start_time": "2024-01-20T12:22:03.568341900Z"
    }
   }
  },
  {
   "cell_type": "code",
   "execution_count": 10,
   "outputs": [
    {
     "data": {
      "text/plain": "['/agenda/eventodetalle/58335/concurso-infantil-de-chirigotas.html',\n '/agenda/eventodetalle/58942/last-of-the-red-hot-lovers.html',\n '/agenda/eventodetalle/58948/torneo-beach-tenis-4-estaciones-invierno.html',\n '/agenda/eventodetalle/58912/si-esta-pa-ti-ni-aunque-te-quites.html',\n '/agenda/eventodetalle/58788/gestaciones-en-la-cuerda-felix-muyo.html']"
     },
     "execution_count": 10,
     "metadata": {},
     "output_type": "execute_result"
    }
   ],
   "source": [
    "event_links[-5:]"
   ],
   "metadata": {
    "collapsed": false,
    "ExecuteTime": {
     "end_time": "2024-01-20T12:22:05.424463Z",
     "start_time": "2024-01-20T12:22:05.414468300Z"
    }
   }
  },
  {
   "cell_type": "markdown",
   "source": [
    "Exploramos lo que aparece en una página de evento"
   ],
   "metadata": {
    "collapsed": false
   }
  },
  {
   "cell_type": "code",
   "execution_count": 11,
   "outputs": [],
   "source": [
    "base_url = f'https://www.marbella.es'\n",
    "\n",
    "event = event_links[0]\n",
    "\n",
    "html_e = get(f'{base_url}{event}', headers=headers)\n",
    "\n",
    "soup = BeautifulSoup(html_e.text)\n",
    "# soup"
   ],
   "metadata": {
    "collapsed": false,
    "ExecuteTime": {
     "end_time": "2024-01-20T12:22:23.524621100Z",
     "start_time": "2024-01-20T12:22:22.809261800Z"
    }
   }
  },
  {
   "cell_type": "markdown",
   "source": [
    "Una función para obtener la información de un evento a partir de su link:"
   ],
   "metadata": {
    "collapsed": false
   }
  },
  {
   "cell_type": "code",
   "execution_count": 12,
   "outputs": [],
   "source": [
    "from time import sleep\n",
    "\n",
    "\n",
    "def get_event_info(event_link: str) -> dict:\n",
    "\n",
    "    html = get(f'{base_url}{event_link}', headers=headers)\n",
    "    text = html.text\n",
    "    soup = BeautifulSoup(text)\n",
    "    base = {'event_link': event_link}\n",
    "    try:\n",
    "        div_info = soup.find('div', string='Repetición Anterior').parent.parent.parent\n",
    "    except:\n",
    "        return base\n",
    "    info = {\n",
    "        'title': div_info.h1.text,\n",
    "        'category': div_info.h2.text,\n",
    "        'datetime': div_info.div.div.text.replace('\\xa0', '').replace('\\n', ''),\n",
    "        'views': int(div_info.find(attrs={'class': 'hitslabel'}).parent.text.split(':')[-1].strip())\n",
    "    }\n",
    "    gmaps_dict = text.split('var gmapConf = {')[-1].split('}')[0]\n",
    "    try:\n",
    "        place = {\n",
    "            'longitude': float(gmaps_dict.split('longitude:\\t\\'')[-1].split(\"'\")[0]),\n",
    "            'latitude': float(gmaps_dict.split('latitude:\\t\\'')[-1].split(\"'\")[0]),\n",
    "            'place_name': text.split('myEventDetailMapload(')[-1].split('.html?tmpl=component')[0].split(' \\\"/agenda/')[-1]\n",
    "        }\n",
    "    except:\n",
    "        place = {}\n",
    "    return {**base, **info, **place}\n"
   ],
   "metadata": {
    "collapsed": false,
    "ExecuteTime": {
     "end_time": "2024-01-20T12:22:27.767393Z",
     "start_time": "2024-01-20T12:22:27.730393700Z"
    }
   }
  },
  {
   "cell_type": "markdown",
   "source": [
    "Recorremos las urls de los eventos que hemos obtenido obteniendo su información"
   ],
   "metadata": {
    "collapsed": false
   }
  },
  {
   "cell_type": "code",
   "execution_count": 13,
   "outputs": [
    {
     "data": {
      "text/plain": "  0%|          | 0/265 [00:00<?, ?it/s]",
      "application/vnd.jupyter.widget-view+json": {
       "version_major": 2,
       "version_minor": 0,
       "model_id": "0c08dd36d86941f8b817d93286fc512f"
      }
     },
     "metadata": {},
     "output_type": "display_data"
    },
    {
     "data": {
      "text/plain": "265"
     },
     "execution_count": 13,
     "metadata": {},
     "output_type": "execute_result"
    }
   ],
   "source": [
    "events_info = []\n",
    "for event_link in tqdm(event_links):\n",
    "    events_info.append(get_event_info(event_link))\n",
    "    sleep(.5)\n",
    "\n",
    "len(events_info)"
   ],
   "metadata": {
    "collapsed": false,
    "ExecuteTime": {
     "end_time": "2024-01-20T12:27:38.003713700Z",
     "start_time": "2024-01-20T12:22:31.325408200Z"
    }
   }
  },
  {
   "cell_type": "markdown",
   "source": [
    "Podemos poner la respuesta como una tabla"
   ],
   "metadata": {
    "collapsed": false
   }
  },
  {
   "cell_type": "code",
   "execution_count": 14,
   "outputs": [
    {
     "data": {
      "text/plain": "                                            event_link  \\\n0    /agenda/eventodetalle/58782/gestaciones-en-la-...   \n1    /agenda/eventodetalle/58786/gestaciones-en-la-...   \n2    /agenda/eventodetalle/58329/concurso-infantil-...   \n3    /agenda/eventodetalle/58470/mas-alla-de-los-su...   \n4    /agenda/eventodetalle/58468/mas-alla-de-los-su...   \n..                                                 ...   \n260  /agenda/eventodetalle/58335/concurso-infantil-...   \n261  /agenda/eventodetalle/58942/last-of-the-red-ho...   \n262  /agenda/eventodetalle/58948/torneo-beach-tenis...   \n263  /agenda/eventodetalle/58912/si-esta-pa-ti-ni-a...   \n264  /agenda/eventodetalle/58788/gestaciones-en-la-...   \n\n                                            title  \\\n0            Gestaciones en la cuerda: Félix Muyo   \n1            Gestaciones en la cuerda: Félix Muyo   \n2                 Concurso infantil de Chirigotas   \n3    Más allá de los sueños: Mónica Vázquez Ayala   \n4    Más allá de los sueños: Mónica Vázquez Ayala   \n..                                            ...   \n260               Concurso infantil de Chirigotas   \n261                                           NaN   \n262                                           NaN   \n263                                           NaN   \n264          Gestaciones en la cuerda: Félix Muyo   \n\n                              category                              datetime  \\\n0    Exposiciones, Cultura y Enseñanza     Martes, 02 Enero 2024,10:00-19:00   \n1    Exposiciones, Cultura y Enseñanza      Lunes, 08 Enero 2024,10:00-19:00   \n2                   Concursos, Fiestas                  Lunes, 22 Enero 2024   \n3    Exposiciones, Cultura y Enseñanza           Martes, 30 Enero 2024,10:00   \n4    Exposiciones, Cultura y Enseñanza          Domingo, 28 Enero 2024,10:00   \n..                                 ...                                   ...   \n260                 Concursos, Fiestas                Domingo, 28 Enero 2024   \n261                                NaN                                   NaN   \n262                                NaN                                   NaN   \n263                                NaN                                   NaN   \n264  Exposiciones, Cultura y Enseñanza  Miércoles, 10 Enero 2024,10:00-19:00   \n\n       views  longitude   latitude  \\\n0    10235.0  -4.889155  36.515846   \n1    10236.0  -4.889155  36.515846   \n2    15420.0        NaN        NaN   \n3    16789.0  -4.883007  36.510094   \n4    16790.0  -4.883007  36.510094   \n..       ...        ...        ...   \n260  15450.0        NaN        NaN   \n261      NaN        NaN        NaN   \n262      NaN        NaN        NaN   \n263      NaN        NaN        NaN   \n264  10257.0  -4.889155  36.515846   \n\n                                            place_name  \n0    lugares/detail/9/0/centro-cultural-cortijo-de-...  \n1    lugares/detail/9/0/centro-cultural-cortijo-de-...  \n2                                                  NaN  \n3    lugares/detail/1/0/museo-del-grabado-espanol-c...  \n4    lugares/detail/1/0/museo-del-grabado-espanol-c...  \n..                                                 ...  \n260                                                NaN  \n261                                                NaN  \n262                                                NaN  \n263                                                NaN  \n264  lugares/detail/9/0/centro-cultural-cortijo-de-...  \n\n[265 rows x 8 columns]",
      "text/html": "<div>\n<style scoped>\n    .dataframe tbody tr th:only-of-type {\n        vertical-align: middle;\n    }\n\n    .dataframe tbody tr th {\n        vertical-align: top;\n    }\n\n    .dataframe thead th {\n        text-align: right;\n    }\n</style>\n<table border=\"1\" class=\"dataframe\">\n  <thead>\n    <tr style=\"text-align: right;\">\n      <th></th>\n      <th>event_link</th>\n      <th>title</th>\n      <th>category</th>\n      <th>datetime</th>\n      <th>views</th>\n      <th>longitude</th>\n      <th>latitude</th>\n      <th>place_name</th>\n    </tr>\n  </thead>\n  <tbody>\n    <tr>\n      <th>0</th>\n      <td>/agenda/eventodetalle/58782/gestaciones-en-la-...</td>\n      <td>Gestaciones en la cuerda: Félix Muyo</td>\n      <td>Exposiciones, Cultura y Enseñanza</td>\n      <td>Martes, 02 Enero 2024,10:00-19:00</td>\n      <td>10235.0</td>\n      <td>-4.889155</td>\n      <td>36.515846</td>\n      <td>lugares/detail/9/0/centro-cultural-cortijo-de-...</td>\n    </tr>\n    <tr>\n      <th>1</th>\n      <td>/agenda/eventodetalle/58786/gestaciones-en-la-...</td>\n      <td>Gestaciones en la cuerda: Félix Muyo</td>\n      <td>Exposiciones, Cultura y Enseñanza</td>\n      <td>Lunes, 08 Enero 2024,10:00-19:00</td>\n      <td>10236.0</td>\n      <td>-4.889155</td>\n      <td>36.515846</td>\n      <td>lugares/detail/9/0/centro-cultural-cortijo-de-...</td>\n    </tr>\n    <tr>\n      <th>2</th>\n      <td>/agenda/eventodetalle/58329/concurso-infantil-...</td>\n      <td>Concurso infantil de Chirigotas</td>\n      <td>Concursos, Fiestas</td>\n      <td>Lunes, 22 Enero 2024</td>\n      <td>15420.0</td>\n      <td>NaN</td>\n      <td>NaN</td>\n      <td>NaN</td>\n    </tr>\n    <tr>\n      <th>3</th>\n      <td>/agenda/eventodetalle/58470/mas-alla-de-los-su...</td>\n      <td>Más allá de los sueños: Mónica Vázquez Ayala</td>\n      <td>Exposiciones, Cultura y Enseñanza</td>\n      <td>Martes, 30 Enero 2024,10:00</td>\n      <td>16789.0</td>\n      <td>-4.883007</td>\n      <td>36.510094</td>\n      <td>lugares/detail/1/0/museo-del-grabado-espanol-c...</td>\n    </tr>\n    <tr>\n      <th>4</th>\n      <td>/agenda/eventodetalle/58468/mas-alla-de-los-su...</td>\n      <td>Más allá de los sueños: Mónica Vázquez Ayala</td>\n      <td>Exposiciones, Cultura y Enseñanza</td>\n      <td>Domingo, 28 Enero 2024,10:00</td>\n      <td>16790.0</td>\n      <td>-4.883007</td>\n      <td>36.510094</td>\n      <td>lugares/detail/1/0/museo-del-grabado-espanol-c...</td>\n    </tr>\n    <tr>\n      <th>...</th>\n      <td>...</td>\n      <td>...</td>\n      <td>...</td>\n      <td>...</td>\n      <td>...</td>\n      <td>...</td>\n      <td>...</td>\n      <td>...</td>\n    </tr>\n    <tr>\n      <th>260</th>\n      <td>/agenda/eventodetalle/58335/concurso-infantil-...</td>\n      <td>Concurso infantil de Chirigotas</td>\n      <td>Concursos, Fiestas</td>\n      <td>Domingo, 28 Enero 2024</td>\n      <td>15450.0</td>\n      <td>NaN</td>\n      <td>NaN</td>\n      <td>NaN</td>\n    </tr>\n    <tr>\n      <th>261</th>\n      <td>/agenda/eventodetalle/58942/last-of-the-red-ho...</td>\n      <td>NaN</td>\n      <td>NaN</td>\n      <td>NaN</td>\n      <td>NaN</td>\n      <td>NaN</td>\n      <td>NaN</td>\n      <td>NaN</td>\n    </tr>\n    <tr>\n      <th>262</th>\n      <td>/agenda/eventodetalle/58948/torneo-beach-tenis...</td>\n      <td>NaN</td>\n      <td>NaN</td>\n      <td>NaN</td>\n      <td>NaN</td>\n      <td>NaN</td>\n      <td>NaN</td>\n      <td>NaN</td>\n    </tr>\n    <tr>\n      <th>263</th>\n      <td>/agenda/eventodetalle/58912/si-esta-pa-ti-ni-a...</td>\n      <td>NaN</td>\n      <td>NaN</td>\n      <td>NaN</td>\n      <td>NaN</td>\n      <td>NaN</td>\n      <td>NaN</td>\n      <td>NaN</td>\n    </tr>\n    <tr>\n      <th>264</th>\n      <td>/agenda/eventodetalle/58788/gestaciones-en-la-...</td>\n      <td>Gestaciones en la cuerda: Félix Muyo</td>\n      <td>Exposiciones, Cultura y Enseñanza</td>\n      <td>Miércoles, 10 Enero 2024,10:00-19:00</td>\n      <td>10257.0</td>\n      <td>-4.889155</td>\n      <td>36.515846</td>\n      <td>lugares/detail/9/0/centro-cultural-cortijo-de-...</td>\n    </tr>\n  </tbody>\n</table>\n<p>265 rows × 8 columns</p>\n</div>"
     },
     "execution_count": 14,
     "metadata": {},
     "output_type": "execute_result"
    }
   ],
   "source": [
    "import pandas as pd\n",
    "\n",
    "\n",
    "df = pd.DataFrame(events_info)\n",
    "df"
   ],
   "metadata": {
    "collapsed": false,
    "ExecuteTime": {
     "end_time": "2024-01-20T12:43:23.162008900Z",
     "start_time": "2024-01-20T12:43:22.613224900Z"
    }
   }
  },
  {
   "cell_type": "markdown",
   "source": [
    "Función para descargar la información de todos los eventos de un mes"
   ],
   "metadata": {
    "collapsed": false
   }
  },
  {
   "cell_type": "code",
   "execution_count": 16,
   "outputs": [
    {
     "data": {
      "text/plain": "  0%|          | 0/265 [00:00<?, ?it/s]",
      "application/vnd.jupyter.widget-view+json": {
       "version_major": 2,
       "version_minor": 0,
       "model_id": "fcbe0b356b6f404ab47d8201a0e897ce"
      }
     },
     "metadata": {},
     "output_type": "display_data"
    },
    {
     "data": {
      "text/plain": "                                            event_link  \\\n0    /agenda/eventodetalle/58782/gestaciones-en-la-...   \n1    /agenda/eventodetalle/58786/gestaciones-en-la-...   \n2    /agenda/eventodetalle/58329/concurso-infantil-...   \n3    /agenda/eventodetalle/58470/mas-alla-de-los-su...   \n4    /agenda/eventodetalle/58468/mas-alla-de-los-su...   \n..                                                 ...   \n260  /agenda/eventodetalle/58335/concurso-infantil-...   \n261  /agenda/eventodetalle/58942/last-of-the-red-ho...   \n262  /agenda/eventodetalle/58948/torneo-beach-tenis...   \n263  /agenda/eventodetalle/58912/si-esta-pa-ti-ni-a...   \n264  /agenda/eventodetalle/58788/gestaciones-en-la-...   \n\n                                            title  \\\n0            Gestaciones en la cuerda: Félix Muyo   \n1            Gestaciones en la cuerda: Félix Muyo   \n2                 Concurso infantil de Chirigotas   \n3    Más allá de los sueños: Mónica Vázquez Ayala   \n4    Más allá de los sueños: Mónica Vázquez Ayala   \n..                                            ...   \n260               Concurso infantil de Chirigotas   \n261                                           NaN   \n262                                           NaN   \n263                                           NaN   \n264          Gestaciones en la cuerda: Félix Muyo   \n\n                              category                              datetime  \\\n0    Exposiciones, Cultura y Enseñanza     Martes, 02 Enero 2024,10:00-19:00   \n1    Exposiciones, Cultura y Enseñanza      Lunes, 08 Enero 2024,10:00-19:00   \n2                   Concursos, Fiestas                  Lunes, 22 Enero 2024   \n3    Exposiciones, Cultura y Enseñanza           Martes, 30 Enero 2024,10:00   \n4    Exposiciones, Cultura y Enseñanza          Domingo, 28 Enero 2024,10:00   \n..                                 ...                                   ...   \n260                 Concursos, Fiestas                Domingo, 28 Enero 2024   \n261                                NaN                                   NaN   \n262                                NaN                                   NaN   \n263                                NaN                                   NaN   \n264  Exposiciones, Cultura y Enseñanza  Miércoles, 10 Enero 2024,10:00-19:00   \n\n       views  longitude   latitude  \\\n0    10260.0  -4.889155  36.515846   \n1    10261.0  -4.889155  36.515846   \n2    15451.0        NaN        NaN   \n3    16825.0  -4.883007  36.510094   \n4    16826.0  -4.883007  36.510094   \n..       ...        ...        ...   \n260  15481.0        NaN        NaN   \n261      NaN        NaN        NaN   \n262      NaN        NaN        NaN   \n263      NaN        NaN        NaN   \n264  10282.0  -4.889155  36.515846   \n\n                                            place_name  \n0    lugares/detail/9/0/centro-cultural-cortijo-de-...  \n1    lugares/detail/9/0/centro-cultural-cortijo-de-...  \n2                                                  NaN  \n3    lugares/detail/1/0/museo-del-grabado-espanol-c...  \n4    lugares/detail/1/0/museo-del-grabado-espanol-c...  \n..                                                 ...  \n260                                                NaN  \n261                                                NaN  \n262                                                NaN  \n263                                                NaN  \n264  lugares/detail/9/0/centro-cultural-cortijo-de-...  \n\n[265 rows x 8 columns]",
      "text/html": "<div>\n<style scoped>\n    .dataframe tbody tr th:only-of-type {\n        vertical-align: middle;\n    }\n\n    .dataframe tbody tr th {\n        vertical-align: top;\n    }\n\n    .dataframe thead th {\n        text-align: right;\n    }\n</style>\n<table border=\"1\" class=\"dataframe\">\n  <thead>\n    <tr style=\"text-align: right;\">\n      <th></th>\n      <th>event_link</th>\n      <th>title</th>\n      <th>category</th>\n      <th>datetime</th>\n      <th>views</th>\n      <th>longitude</th>\n      <th>latitude</th>\n      <th>place_name</th>\n    </tr>\n  </thead>\n  <tbody>\n    <tr>\n      <th>0</th>\n      <td>/agenda/eventodetalle/58782/gestaciones-en-la-...</td>\n      <td>Gestaciones en la cuerda: Félix Muyo</td>\n      <td>Exposiciones, Cultura y Enseñanza</td>\n      <td>Martes, 02 Enero 2024,10:00-19:00</td>\n      <td>10260.0</td>\n      <td>-4.889155</td>\n      <td>36.515846</td>\n      <td>lugares/detail/9/0/centro-cultural-cortijo-de-...</td>\n    </tr>\n    <tr>\n      <th>1</th>\n      <td>/agenda/eventodetalle/58786/gestaciones-en-la-...</td>\n      <td>Gestaciones en la cuerda: Félix Muyo</td>\n      <td>Exposiciones, Cultura y Enseñanza</td>\n      <td>Lunes, 08 Enero 2024,10:00-19:00</td>\n      <td>10261.0</td>\n      <td>-4.889155</td>\n      <td>36.515846</td>\n      <td>lugares/detail/9/0/centro-cultural-cortijo-de-...</td>\n    </tr>\n    <tr>\n      <th>2</th>\n      <td>/agenda/eventodetalle/58329/concurso-infantil-...</td>\n      <td>Concurso infantil de Chirigotas</td>\n      <td>Concursos, Fiestas</td>\n      <td>Lunes, 22 Enero 2024</td>\n      <td>15451.0</td>\n      <td>NaN</td>\n      <td>NaN</td>\n      <td>NaN</td>\n    </tr>\n    <tr>\n      <th>3</th>\n      <td>/agenda/eventodetalle/58470/mas-alla-de-los-su...</td>\n      <td>Más allá de los sueños: Mónica Vázquez Ayala</td>\n      <td>Exposiciones, Cultura y Enseñanza</td>\n      <td>Martes, 30 Enero 2024,10:00</td>\n      <td>16825.0</td>\n      <td>-4.883007</td>\n      <td>36.510094</td>\n      <td>lugares/detail/1/0/museo-del-grabado-espanol-c...</td>\n    </tr>\n    <tr>\n      <th>4</th>\n      <td>/agenda/eventodetalle/58468/mas-alla-de-los-su...</td>\n      <td>Más allá de los sueños: Mónica Vázquez Ayala</td>\n      <td>Exposiciones, Cultura y Enseñanza</td>\n      <td>Domingo, 28 Enero 2024,10:00</td>\n      <td>16826.0</td>\n      <td>-4.883007</td>\n      <td>36.510094</td>\n      <td>lugares/detail/1/0/museo-del-grabado-espanol-c...</td>\n    </tr>\n    <tr>\n      <th>...</th>\n      <td>...</td>\n      <td>...</td>\n      <td>...</td>\n      <td>...</td>\n      <td>...</td>\n      <td>...</td>\n      <td>...</td>\n      <td>...</td>\n    </tr>\n    <tr>\n      <th>260</th>\n      <td>/agenda/eventodetalle/58335/concurso-infantil-...</td>\n      <td>Concurso infantil de Chirigotas</td>\n      <td>Concursos, Fiestas</td>\n      <td>Domingo, 28 Enero 2024</td>\n      <td>15481.0</td>\n      <td>NaN</td>\n      <td>NaN</td>\n      <td>NaN</td>\n    </tr>\n    <tr>\n      <th>261</th>\n      <td>/agenda/eventodetalle/58942/last-of-the-red-ho...</td>\n      <td>NaN</td>\n      <td>NaN</td>\n      <td>NaN</td>\n      <td>NaN</td>\n      <td>NaN</td>\n      <td>NaN</td>\n      <td>NaN</td>\n    </tr>\n    <tr>\n      <th>262</th>\n      <td>/agenda/eventodetalle/58948/torneo-beach-tenis...</td>\n      <td>NaN</td>\n      <td>NaN</td>\n      <td>NaN</td>\n      <td>NaN</td>\n      <td>NaN</td>\n      <td>NaN</td>\n      <td>NaN</td>\n    </tr>\n    <tr>\n      <th>263</th>\n      <td>/agenda/eventodetalle/58912/si-esta-pa-ti-ni-a...</td>\n      <td>NaN</td>\n      <td>NaN</td>\n      <td>NaN</td>\n      <td>NaN</td>\n      <td>NaN</td>\n      <td>NaN</td>\n      <td>NaN</td>\n    </tr>\n    <tr>\n      <th>264</th>\n      <td>/agenda/eventodetalle/58788/gestaciones-en-la-...</td>\n      <td>Gestaciones en la cuerda: Félix Muyo</td>\n      <td>Exposiciones, Cultura y Enseñanza</td>\n      <td>Miércoles, 10 Enero 2024,10:00-19:00</td>\n      <td>10282.0</td>\n      <td>-4.889155</td>\n      <td>36.515846</td>\n      <td>lugares/detail/9/0/centro-cultural-cortijo-de-...</td>\n    </tr>\n  </tbody>\n</table>\n<p>265 rows × 8 columns</p>\n</div>"
     },
     "execution_count": 16,
     "metadata": {},
     "output_type": "execute_result"
    }
   ],
   "source": [
    "def get_all_month_events(year: int, month: int):\n",
    "\n",
    "    month = str(month).rjust(2, '0')\n",
    "    url = f'https://www.marbella.es/agenda/eventospormes/{year}/{month}.html'\n",
    "    html = get(url, headers=headers)\n",
    "    soup = BeautifulSoup(html.text)\n",
    "    all_hrefs = [a['href'] for a in soup.find_all(href=True)]\n",
    "    event_links = list({e for e in all_hrefs if 'eventodetalle' in e})\n",
    "\n",
    "    events_info = []\n",
    "    for event_link in tqdm(event_links):\n",
    "        events_info.append(get_event_info(event_link))\n",
    "        sleep(.5)\n",
    "    df = pd.DataFrame(events_info)\n",
    "    return df\n",
    "\n",
    "df = get_all_month_events(2024, 1)\n",
    "df"
   ],
   "metadata": {
    "collapsed": false,
    "ExecuteTime": {
     "end_time": "2024-01-20T12:56:38.746044400Z",
     "start_time": "2024-01-20T12:51:52.788427Z"
    }
   }
  },
  {
   "cell_type": "markdown",
   "source": [
    "Descarga de todos los eventos de 2024 y 2025"
   ],
   "metadata": {
    "collapsed": false
   }
  },
  {
   "cell_type": "markdown",
   "source": [],
   "metadata": {
    "collapsed": false
   }
  },
  {
   "cell_type": "code",
   "execution_count": 17,
   "outputs": [
    {
     "data": {
      "text/plain": "0it [00:00, ?it/s]",
      "application/vnd.jupyter.widget-view+json": {
       "version_major": 2,
       "version_minor": 0,
       "model_id": "c4f5ea5f918444da9b969ee644c58020"
      }
     },
     "metadata": {},
     "output_type": "display_data"
    },
    {
     "data": {
      "text/plain": "  0%|          | 0/265 [00:00<?, ?it/s]",
      "application/vnd.jupyter.widget-view+json": {
       "version_major": 2,
       "version_minor": 0,
       "model_id": "d20f9bddca8c4222a3c61db654a8b07f"
      }
     },
     "metadata": {},
     "output_type": "display_data"
    },
    {
     "data": {
      "text/plain": "  0%|          | 0/192 [00:00<?, ?it/s]",
      "application/vnd.jupyter.widget-view+json": {
       "version_major": 2,
       "version_minor": 0,
       "model_id": "990548ca0d5a429c860c1a9c40fddbd9"
      }
     },
     "metadata": {},
     "output_type": "display_data"
    },
    {
     "data": {
      "text/plain": "  0%|          | 0/130 [00:00<?, ?it/s]",
      "application/vnd.jupyter.widget-view+json": {
       "version_major": 2,
       "version_minor": 0,
       "model_id": "34643da1da1240bf82ecd39dc4395d7b"
      }
     },
     "metadata": {},
     "output_type": "display_data"
    },
    {
     "data": {
      "text/plain": "  0%|          | 0/88 [00:00<?, ?it/s]",
      "application/vnd.jupyter.widget-view+json": {
       "version_major": 2,
       "version_minor": 0,
       "model_id": "e2c6a23d9dcc4e25bdb50703f33c3d03"
      }
     },
     "metadata": {},
     "output_type": "display_data"
    },
    {
     "data": {
      "text/plain": "  0%|          | 0/78 [00:00<?, ?it/s]",
      "application/vnd.jupyter.widget-view+json": {
       "version_major": 2,
       "version_minor": 0,
       "model_id": "2a292c08e1a14bf1ae38358ef297ed70"
      }
     },
     "metadata": {},
     "output_type": "display_data"
    },
    {
     "data": {
      "text/plain": "  0%|          | 0/72 [00:00<?, ?it/s]",
      "application/vnd.jupyter.widget-view+json": {
       "version_major": 2,
       "version_minor": 0,
       "model_id": "6cfe48342c0b49e5898e4d87e09d52ea"
      }
     },
     "metadata": {},
     "output_type": "display_data"
    },
    {
     "data": {
      "text/plain": "  0%|          | 0/66 [00:00<?, ?it/s]",
      "application/vnd.jupyter.widget-view+json": {
       "version_major": 2,
       "version_minor": 0,
       "model_id": "d44548fe4a9f45679df2dffff3789813"
      }
     },
     "metadata": {},
     "output_type": "display_data"
    },
    {
     "data": {
      "text/plain": "  0%|          | 0/75 [00:00<?, ?it/s]",
      "application/vnd.jupyter.widget-view+json": {
       "version_major": 2,
       "version_minor": 0,
       "model_id": "0c964fe7f4ac4660858ac57d13122f64"
      }
     },
     "metadata": {},
     "output_type": "display_data"
    },
    {
     "data": {
      "text/plain": "  0%|          | 0/67 [00:00<?, ?it/s]",
      "application/vnd.jupyter.widget-view+json": {
       "version_major": 2,
       "version_minor": 0,
       "model_id": "3e854181b13f475a96ba990aa5d1e9b1"
      }
     },
     "metadata": {},
     "output_type": "display_data"
    },
    {
     "data": {
      "text/plain": "  0%|          | 0/66 [00:00<?, ?it/s]",
      "application/vnd.jupyter.widget-view+json": {
       "version_major": 2,
       "version_minor": 0,
       "model_id": "3899b2dc644d486e899b9e9f0008a2d2"
      }
     },
     "metadata": {},
     "output_type": "display_data"
    },
    {
     "data": {
      "text/plain": "  0%|          | 0/50 [00:00<?, ?it/s]",
      "application/vnd.jupyter.widget-view+json": {
       "version_major": 2,
       "version_minor": 0,
       "model_id": "f962548863fe4a7b851dde6587792445"
      }
     },
     "metadata": {},
     "output_type": "display_data"
    },
    {
     "data": {
      "text/plain": "  0%|          | 0/47 [00:00<?, ?it/s]",
      "application/vnd.jupyter.widget-view+json": {
       "version_major": 2,
       "version_minor": 0,
       "model_id": "7aa9e4c0dfab4dc8b5d5509fde16ca2b"
      }
     },
     "metadata": {},
     "output_type": "display_data"
    },
    {
     "data": {
      "text/plain": "                                             event_link  \\\n0     /agenda/eventodetalle/58782/gestaciones-en-la-...   \n1     /agenda/eventodetalle/58786/gestaciones-en-la-...   \n2     /agenda/eventodetalle/58329/concurso-infantil-...   \n3     /agenda/eventodetalle/58470/mas-alla-de-los-su...   \n4     /agenda/eventodetalle/58468/mas-alla-de-los-su...   \n...                                                 ...   \n1191  /agenda/eventodetalle/52174/villa-romana-de-ri...   \n1192  /agenda/eventodetalle/52180/villa-romana-de-ri...   \n1193  /agenda/eventodetalle/54315/basilica-paleocris...   \n1194  /agenda/eventodetalle/54317/basilica-paleocris...   \n1195  /agenda/eventodetalle/54323/basilica-paleocris...   \n\n                                             title  \\\n0             Gestaciones en la cuerda: Félix Muyo   \n1             Gestaciones en la cuerda: Félix Muyo   \n2                  Concurso infantil de Chirigotas   \n3     Más allá de los sueños: Mónica Vázquez Ayala   \n4     Más allá de los sueños: Mónica Vázquez Ayala   \n...                                            ...   \n1191                     Villa Romana de Río Verde   \n1192                     Villa Romana de Río Verde   \n1193       Basílica Paleocristiana de Vega del Mar   \n1194       Basílica Paleocristiana de Vega del Mar   \n1195       Basílica Paleocristiana de Vega del Mar   \n\n                                               category  \\\n0                     Exposiciones, Cultura y Enseñanza   \n1                     Exposiciones, Cultura y Enseñanza   \n2                                    Concursos, Fiestas   \n3                     Exposiciones, Cultura y Enseñanza   \n4                     Exposiciones, Cultura y Enseñanza   \n...                                                 ...   \n1191                 Cultura y Enseñanza, Visita Guiada   \n1192                 Cultura y Enseñanza, Visita Guiada   \n1193  Cultura y Enseñanza, Tenencia Alcaldía San Ped...   \n1194  Cultura y Enseñanza, Tenencia Alcaldía San Ped...   \n1195  Cultura y Enseñanza, Tenencia Alcaldía San Ped...   \n\n                                    datetime     views  longitude   latitude  \\\n0          Martes, 02 Enero 2024,10:00-19:00   10283.0  -4.889155  36.515846   \n1           Lunes, 08 Enero 2024,10:00-19:00   10284.0  -4.889155  36.515846   \n2                       Lunes, 22 Enero 2024   15482.0        NaN        NaN   \n3                Martes, 30 Enero 2024,10:00   16857.0  -4.883007  36.510094   \n4               Domingo, 28 Enero 2024,10:00   16858.0  -4.883007  36.510094   \n...                                      ...       ...        ...        ...   \n1191  Domingo, 15 Diciembre 2024,10:30-13:30   99768.0  -4.944436  36.495712   \n1192  Domingo, 29 Diciembre 2024,10:30-13:30   99769.0  -4.944436  36.495712   \n1193  Viernes, 06 Diciembre 2024,11:15-14:00  117096.0  -4.990243  36.471966   \n1194  Domingo, 08 Diciembre 2024,11:15-14:00  117097.0  -4.990243  36.471966   \n1195  Domingo, 22 Diciembre 2024,11:15-14:00  117098.0  -4.990243  36.471966   \n\n                                             place_name  \n0     lugares/detail/9/0/centro-cultural-cortijo-de-...  \n1     lugares/detail/9/0/centro-cultural-cortijo-de-...  \n2                                                   NaN  \n3     lugares/detail/1/0/museo-del-grabado-espanol-c...  \n4     lugares/detail/1/0/museo-del-grabado-espanol-c...  \n...                                                 ...  \n1191       lugares/detail/2/0/villa-romana-de-rio-verde  \n1192       lugares/detail/2/0/villa-romana-de-rio-verde  \n1193  lugares/detail/27/0/basilica-paleocristiana-de...  \n1194  lugares/detail/27/0/basilica-paleocristiana-de...  \n1195  lugares/detail/27/0/basilica-paleocristiana-de...  \n\n[1196 rows x 8 columns]",
      "text/html": "<div>\n<style scoped>\n    .dataframe tbody tr th:only-of-type {\n        vertical-align: middle;\n    }\n\n    .dataframe tbody tr th {\n        vertical-align: top;\n    }\n\n    .dataframe thead th {\n        text-align: right;\n    }\n</style>\n<table border=\"1\" class=\"dataframe\">\n  <thead>\n    <tr style=\"text-align: right;\">\n      <th></th>\n      <th>event_link</th>\n      <th>title</th>\n      <th>category</th>\n      <th>datetime</th>\n      <th>views</th>\n      <th>longitude</th>\n      <th>latitude</th>\n      <th>place_name</th>\n    </tr>\n  </thead>\n  <tbody>\n    <tr>\n      <th>0</th>\n      <td>/agenda/eventodetalle/58782/gestaciones-en-la-...</td>\n      <td>Gestaciones en la cuerda: Félix Muyo</td>\n      <td>Exposiciones, Cultura y Enseñanza</td>\n      <td>Martes, 02 Enero 2024,10:00-19:00</td>\n      <td>10283.0</td>\n      <td>-4.889155</td>\n      <td>36.515846</td>\n      <td>lugares/detail/9/0/centro-cultural-cortijo-de-...</td>\n    </tr>\n    <tr>\n      <th>1</th>\n      <td>/agenda/eventodetalle/58786/gestaciones-en-la-...</td>\n      <td>Gestaciones en la cuerda: Félix Muyo</td>\n      <td>Exposiciones, Cultura y Enseñanza</td>\n      <td>Lunes, 08 Enero 2024,10:00-19:00</td>\n      <td>10284.0</td>\n      <td>-4.889155</td>\n      <td>36.515846</td>\n      <td>lugares/detail/9/0/centro-cultural-cortijo-de-...</td>\n    </tr>\n    <tr>\n      <th>2</th>\n      <td>/agenda/eventodetalle/58329/concurso-infantil-...</td>\n      <td>Concurso infantil de Chirigotas</td>\n      <td>Concursos, Fiestas</td>\n      <td>Lunes, 22 Enero 2024</td>\n      <td>15482.0</td>\n      <td>NaN</td>\n      <td>NaN</td>\n      <td>NaN</td>\n    </tr>\n    <tr>\n      <th>3</th>\n      <td>/agenda/eventodetalle/58470/mas-alla-de-los-su...</td>\n      <td>Más allá de los sueños: Mónica Vázquez Ayala</td>\n      <td>Exposiciones, Cultura y Enseñanza</td>\n      <td>Martes, 30 Enero 2024,10:00</td>\n      <td>16857.0</td>\n      <td>-4.883007</td>\n      <td>36.510094</td>\n      <td>lugares/detail/1/0/museo-del-grabado-espanol-c...</td>\n    </tr>\n    <tr>\n      <th>4</th>\n      <td>/agenda/eventodetalle/58468/mas-alla-de-los-su...</td>\n      <td>Más allá de los sueños: Mónica Vázquez Ayala</td>\n      <td>Exposiciones, Cultura y Enseñanza</td>\n      <td>Domingo, 28 Enero 2024,10:00</td>\n      <td>16858.0</td>\n      <td>-4.883007</td>\n      <td>36.510094</td>\n      <td>lugares/detail/1/0/museo-del-grabado-espanol-c...</td>\n    </tr>\n    <tr>\n      <th>...</th>\n      <td>...</td>\n      <td>...</td>\n      <td>...</td>\n      <td>...</td>\n      <td>...</td>\n      <td>...</td>\n      <td>...</td>\n      <td>...</td>\n    </tr>\n    <tr>\n      <th>1191</th>\n      <td>/agenda/eventodetalle/52174/villa-romana-de-ri...</td>\n      <td>Villa Romana de Río Verde</td>\n      <td>Cultura y Enseñanza, Visita Guiada</td>\n      <td>Domingo, 15 Diciembre 2024,10:30-13:30</td>\n      <td>99768.0</td>\n      <td>-4.944436</td>\n      <td>36.495712</td>\n      <td>lugares/detail/2/0/villa-romana-de-rio-verde</td>\n    </tr>\n    <tr>\n      <th>1192</th>\n      <td>/agenda/eventodetalle/52180/villa-romana-de-ri...</td>\n      <td>Villa Romana de Río Verde</td>\n      <td>Cultura y Enseñanza, Visita Guiada</td>\n      <td>Domingo, 29 Diciembre 2024,10:30-13:30</td>\n      <td>99769.0</td>\n      <td>-4.944436</td>\n      <td>36.495712</td>\n      <td>lugares/detail/2/0/villa-romana-de-rio-verde</td>\n    </tr>\n    <tr>\n      <th>1193</th>\n      <td>/agenda/eventodetalle/54315/basilica-paleocris...</td>\n      <td>Basílica Paleocristiana de Vega del Mar</td>\n      <td>Cultura y Enseñanza, Tenencia Alcaldía San Ped...</td>\n      <td>Viernes, 06 Diciembre 2024,11:15-14:00</td>\n      <td>117096.0</td>\n      <td>-4.990243</td>\n      <td>36.471966</td>\n      <td>lugares/detail/27/0/basilica-paleocristiana-de...</td>\n    </tr>\n    <tr>\n      <th>1194</th>\n      <td>/agenda/eventodetalle/54317/basilica-paleocris...</td>\n      <td>Basílica Paleocristiana de Vega del Mar</td>\n      <td>Cultura y Enseñanza, Tenencia Alcaldía San Ped...</td>\n      <td>Domingo, 08 Diciembre 2024,11:15-14:00</td>\n      <td>117097.0</td>\n      <td>-4.990243</td>\n      <td>36.471966</td>\n      <td>lugares/detail/27/0/basilica-paleocristiana-de...</td>\n    </tr>\n    <tr>\n      <th>1195</th>\n      <td>/agenda/eventodetalle/54323/basilica-paleocris...</td>\n      <td>Basílica Paleocristiana de Vega del Mar</td>\n      <td>Cultura y Enseñanza, Tenencia Alcaldía San Ped...</td>\n      <td>Domingo, 22 Diciembre 2024,11:15-14:00</td>\n      <td>117098.0</td>\n      <td>-4.990243</td>\n      <td>36.471966</td>\n      <td>lugares/detail/27/0/basilica-paleocristiana-de...</td>\n    </tr>\n  </tbody>\n</table>\n<p>1196 rows × 8 columns</p>\n</div>"
     },
     "execution_count": 17,
     "metadata": {},
     "output_type": "execute_result"
    }
   ],
   "source": [
    "from itertools import product\n",
    "\n",
    "dfs = []\n",
    "for year, month in tqdm(product(range(2024, 2025), range(1, 13))):\n",
    "    dfs.append(get_all_month_events(year, month))\n",
    "\n",
    "df = pd.concat(dfs, ignore_index=True)\n",
    "df"
   ],
   "metadata": {
    "collapsed": false,
    "ExecuteTime": {
     "end_time": "2024-01-20T13:18:50.463999Z",
     "start_time": "2024-01-20T12:56:38.747046Z"
    }
   }
  },
  {
   "cell_type": "code",
   "execution_count": 19,
   "outputs": [],
   "source": [
    "df.to_csv('marbella_events_2024-2025.csv', index=False)"
   ],
   "metadata": {
    "collapsed": false,
    "ExecuteTime": {
     "end_time": "2024-01-20T13:31:37.373483300Z",
     "start_time": "2024-01-20T13:31:37.331763200Z"
    }
   }
  },
  {
   "cell_type": "code",
   "execution_count": null,
   "outputs": [],
   "source": [],
   "metadata": {
    "collapsed": false
   }
  }
 ],
 "metadata": {
  "kernelspec": {
   "display_name": "Python 3",
   "language": "python",
   "name": "python3"
  },
  "language_info": {
   "codemirror_mode": {
    "name": "ipython",
    "version": 2
   },
   "file_extension": ".py",
   "mimetype": "text/x-python",
   "name": "python",
   "nbconvert_exporter": "python",
   "pygments_lexer": "ipython2",
   "version": "2.7.6"
  }
 },
 "nbformat": 4,
 "nbformat_minor": 0
}
