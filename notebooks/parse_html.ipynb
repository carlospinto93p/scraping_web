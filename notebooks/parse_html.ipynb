{
 "cells": [
  {
   "cell_type": "markdown",
   "source": [
    "## Instalación"
   ],
   "metadata": {
    "collapsed": false
   }
  },
  {
   "cell_type": "code",
   "source": [
    "!pip install beautifulsoup4 \n",
    "!pip install tqdm"
   ],
   "metadata": {
    "collapsed": false
   },
   "outputs": [],
   "execution_count": null
  },
  {
   "cell_type": "markdown",
   "source": [
    "## Configuración"
   ],
   "metadata": {
    "collapsed": false
   }
  },
  {
   "cell_type": "code",
   "source": [
    "from bs4 import BeautifulSoup\n",
    "from requests import get\n",
    "from time import sleep\n",
    "import re\n",
    "\n",
    "from pandas import DataFrame\n",
    "from tqdm.notebook import tqdm\n",
    "\n",
    "\n",
    "url = 'https://www.malaga.eu/la-ciudad/agenda/'"
   ],
   "metadata": {
    "collapsed": false,
    "ExecuteTime": {
     "end_time": "2025-04-22T21:32:21.119435Z",
     "start_time": "2025-04-22T21:32:20.428531Z"
    }
   },
   "outputs": [],
   "execution_count": 2
  },
  {
   "cell_type": "markdown",
   "source": [
    "### Peticiones web"
   ],
   "metadata": {
    "collapsed": false
   }
  },
  {
   "cell_type": "code",
   "source": [
    "response = get(url)\n",
    "response"
   ],
   "metadata": {
    "collapsed": false,
    "ExecuteTime": {
     "end_time": "2025-04-22T21:32:23.657872Z",
     "start_time": "2025-04-22T21:32:21.200568Z"
    }
   },
   "outputs": [
    {
     "data": {
      "text/plain": [
       "<Response [200]>"
      ]
     },
     "execution_count": 3,
     "metadata": {},
     "output_type": "execute_result"
    }
   ],
   "execution_count": 3
  },
  {
   "metadata": {},
   "cell_type": "markdown",
   "source": "Podemos explorar el contenido de la respuesta con la siguiente función:"
  },
  {
   "cell_type": "code",
   "source": [
    "text = response.text\n",
    "\n",
    "def preview_text(large_text: str) -> None:\n",
    "    \"\"\"\n",
    "    Preview the first and last 300 characters of a large text.\n",
    "    \"\"\"\n",
    "    print(f'{len(large_text) = }')\n",
    "    print(f'{large_text[:300]}\\n\\n...\\n\\n{large_text[-300:]}')\n",
    "\n",
    "preview_text(text)"
   ],
   "metadata": {
    "collapsed": false,
    "ExecuteTime": {
     "end_time": "2025-04-22T21:32:23.688874Z",
     "start_time": "2025-04-22T21:32:23.675873Z"
    }
   },
   "outputs": [
    {
     "name": "stdout",
     "output_type": "stream",
     "text": [
      "len(large_text) = 110178\n",
      "<!DOCTYPE html>\n",
      "\t<html lang=\"es\" itemscope=\"itemscope\" itemtype=\"http://schema.org/Organization\">\n",
      "\t<head>\n",
      "\n",
      "\t\t<title>Agenda</title>\n",
      "\t\t<meta charset=\"UTF-8\">\n",
      "\t\t<meta http-equiv=\"X-UA-Compatible\" content=\"IE=edge\"><meta name=\"viewport\" content=\"width=device-width, initial-scale=1.0\"> <meta name=\"descri\n",
      "\n",
      "...\n",
      "\n",
      "src=\"/export/system/modules/com.saga.sagasuite.core.script/resources/respond/1.3.0/respond.js\" type=\"text/javascript\" ></script>\n",
      "\t<script src=\"/export/system/modules/com.saga.sagasuite.core.script/resources/sagasuite/sg-ie7-8.js\" type=\"text/javascript\" ></script>\n",
      "\t<![endif]-->\n",
      "\n",
      "\t\t</body>\n",
      "\n",
      "\t</html>\n",
      "\n",
      "\n"
     ]
    }
   ],
   "execution_count": 4
  },
  {
   "cell_type": "markdown",
   "source": "Es posible que una request como la anterior no nos devuelva el mismo resultado que recibimos utilizando nuestro explorador web. En ese caso, podemos intentar añadir headers que indiquen el navegador web que (teóricamente) estamos utilizando. En este caso, obtenemos el mismo resultado sin añadir estos headers, pero en muchas otras páginas esto no sucede así.",
   "metadata": {
    "collapsed": false
   }
  },
  {
   "cell_type": "code",
   "source": [
    "headers = {'User-Agent': 'Mozilla/5.0 (Windows NT 10.0; Win64; x64; rv:109.0) Gecko/20100101 Firefox/109.0'}\n",
    "\n",
    "response = get(url, headers=headers)\n",
    "\n",
    "text = response.text\n",
    "\n",
    "preview_text(text)"
   ],
   "metadata": {
    "collapsed": false,
    "ExecuteTime": {
     "end_time": "2025-04-22T21:32:24.274292Z",
     "start_time": "2025-04-22T21:32:23.706873Z"
    }
   },
   "outputs": [
    {
     "name": "stdout",
     "output_type": "stream",
     "text": [
      "len(large_text) = 110178\n",
      "<!DOCTYPE html>\n",
      "\t<html lang=\"es\" itemscope=\"itemscope\" itemtype=\"http://schema.org/Organization\">\n",
      "\t<head>\n",
      "\n",
      "\t\t<title>Agenda</title>\n",
      "\t\t<meta charset=\"UTF-8\">\n",
      "\t\t<meta http-equiv=\"X-UA-Compatible\" content=\"IE=edge\"><meta name=\"viewport\" content=\"width=device-width, initial-scale=1.0\"> <meta name=\"descri\n",
      "\n",
      "...\n",
      "\n",
      "src=\"/export/system/modules/com.saga.sagasuite.core.script/resources/respond/1.3.0/respond.js\" type=\"text/javascript\" ></script>\n",
      "\t<script src=\"/export/system/modules/com.saga.sagasuite.core.script/resources/sagasuite/sg-ie7-8.js\" type=\"text/javascript\" ></script>\n",
      "\t<![endif]-->\n",
      "\n",
      "\t\t</body>\n",
      "\n",
      "\t</html>\n",
      "\n",
      "\n"
     ]
    }
   ],
   "execution_count": 5
  },
  {
   "cell_type": "markdown",
   "source": [
    "Para procesar el html recibido utilizamos BeautifulSoup"
   ],
   "metadata": {
    "collapsed": false
   }
  },
  {
   "cell_type": "code",
   "metadata": {
    "collapsed": true,
    "ExecuteTime": {
     "end_time": "2025-04-22T21:32:24.366296Z",
     "start_time": "2025-04-22T21:32:24.291311Z"
    }
   },
   "source": [
    "soup = BeautifulSoup(response.text)\n",
    "# soup"
   ],
   "outputs": [],
   "execution_count": 6
  },
  {
   "cell_type": "markdown",
   "source": "Después de haber explorado la página, sabemos que los eventos están en `<div id=\"agenda\">`. Vamos a buscarlo.",
   "metadata": {
    "collapsed": false
   }
  },
  {
   "cell_type": "code",
   "source": [
    "events_container = soup.find('div', id='agenda')\n",
    "events_container"
   ],
   "metadata": {
    "collapsed": false,
    "ExecuteTime": {
     "end_time": "2025-04-22T21:32:24.426293Z",
     "start_time": "2025-04-22T21:32:24.397295Z"
    }
   },
   "outputs": [
    {
     "data": {
      "text/plain": [
       "<div class=\"element parent sg-search advanced sg-search-agenda\" id=\"agenda\">\n",
       "<div class=\"wrapper\">\n",
       "<header class=\"headline\">\n",
       "<h2 class=\"title h2\">Agenda<a class=\"btn btn-gray rounded pull-right\" href=\"https://www.malaga.eu/la-ciudad/dias-festivos/\" target=\"_blank\"><i aria-hidden=\"true\" class=\"fa fa-calendar mr-5\"></i>\n",
       "\t\t\t\t\tDias Festivos</a>\n",
       "</h2>\n",
       "</header>\n",
       "<form class=\"sg-search-form sg-search-form-agenda mb-40\" id=\"agd-searchform\" method=\"get\" name=\"agd-searchform\" role=\"search\">\n",
       "<div class=\"row\">\n",
       "<div class=\"col-xxs-12 col-sm-5\">\n",
       "<div class=\"filterheader clearfix mb-30\">\n",
       "<span class=\"title-element\">Calendario</span>\n",
       "</div>\n",
       "<div class=\"datepicker-wrapper datepicker-wrapper-inline datepicker-wrapper-with-caption\" data-date-language=\"es\" data-date-multidate=\"false\" data-date-title=\"Selecciona un día para ver las actividades celebradas\" data-date-today-highlight=\"true\" data-date-week-start=\"1\" data-provide=\"datepicker-inline\" data-target-input=\"fechaDesde\" id=\"calAgd\">\n",
       "</div>\n",
       "</div>\n",
       "<div class=\"col-xxs-12 col-sm-7\">\n",
       "<div class=\"filterheader clearfix mb-30\">\n",
       "<span class=\"title-element\">Buscador</span>\n",
       "</div>\n",
       "<div class=\"form-group mb-25\">\n",
       "<div class=\"input-group\">\n",
       "<span class=\"input-group-addon color-gray-light-medium\">Desde</span>\n",
       "<input aria-label=\"Fecha desde (dd/mm/aaaa)\" class=\"form-control\" data-date-autoclose=\"true\" data-date-language=\"es\" data-date-multidate=\"false\" data-date-today-highlight=\"true\" data-date-week-start=\"1\" data-provide=\"datepicker\" data-target-input=\"fechaDesde\" id=\"fechaDesde\" name=\"fechaDesde\" placeholder=\"dd/mm/aaaa\" type=\"text\" value=\"\"/>\n",
       "<span class=\"input-group-addon input-group-addon-date-begin\" data-date-autoclose=\"true\" data-date-language=\"es\" data-date-multidate=\"false\" data-date-today-highlight=\"true\" data-date-week-start=\"1\" data-provide=\"datepicker\" data-target-input=\"fechaDesde\">\n",
       "<span aria-hidden=\"true\" class=\"fa fa-calendar\"></span>\n",
       "</span>\n",
       "</div>\n",
       "</div>\n",
       "<div class=\"form-group mb-25\">\n",
       "<div class=\"input-group\">\n",
       "<span class=\"input-group-addon color-gray-light-medium\">Hasta</span>\n",
       "<input aria-label=\"Fecha hasta (dd/mm/aaaa)\" class=\"form-control\" data-date-autoclose=\"true\" data-date-language=\"es\" data-date-multidate=\"false\" data-date-today-highlight=\"true\" data-date-week-start=\"1\" data-provide=\"datepicker\" data-target-input=\"fechaHasta\" id=\"fechaHasta\" name=\"fechaHasta\" placeholder=\"dd/mm/aaaa\" type=\"text\" value=\"\"/>\n",
       "<span class=\"input-group-addon input-group-addon-date-begin\" data-date-autoclose=\"true\" data-date-language=\"es\" data-date-multidate=\"false\" data-date-today-highlight=\"true\" data-date-week-start=\"1\" data-provide=\"datepicker\" data-target-input=\"fechaHasta\">\n",
       "<span aria-hidden=\"true\" class=\"fa fa-calendar\"></span>\n",
       "</span>\n",
       "</div>\n",
       "</div>\n",
       "<div class=\"form-group mb-25\">\n",
       "<input aria-label=\"Búsqueda por texto\" class=\"form-control\" id=\"texto\" maxlength=\"50\" name=\"texto\" placeholder=\"Texto\" type=\"text\" value=\"\"/>\n",
       "</div>\n",
       "<div class=\"form-group\">\n",
       "<button class=\"btn btn-specific-main btn-lg btn-block\" type=\"submit\">Buscar</button>\n",
       "</div>\n",
       "</div>\n",
       "</div>\n",
       "</form>\n",
       "<div class=\"panel-group list\">\n",
       "<ul class=\"list-unstyled main-ul mb-0\">\n",
       "<li class=\"list-element\">\n",
       "<article class=\"media row lg-spacing-row\">\n",
       "<div class=\"media-object col-xxs-12 col-xs-3\">\n",
       "<div class=\"saga-imagen\">\n",
       "<span class=\"wrapper-image\">\n",
       "<img alt=\"Imagen principal\" class=\"img-responsive\" height=\"320\" src=\"http://www.malaga.eu/inter/visor_contenido/AGDImageDisplayer1/ImagenAgenda48700?id_imagen=48700\" width=\"480\"/>\n",
       "</span>\n",
       "</div>\n",
       "</div>\n",
       "<div class=\"media-body container-fluid\">\n",
       "<h2 class=\"title-element media-heading h3\">\n",
       "<a href=\"/la-ciudad/agenda/detalle-actividad/index.html?id=138182\">Manipulador de Alimentos para Celíacos</a>\n",
       "</h2>\n",
       "<span class=\"info date-element\">\n",
       "<span aria-hidden=\"true\" class=\"pe-7s-date fs30 v-align-m mr-10\"></span>\n",
       "<time datetime=\"2025-04-23\">\n",
       "                                    23-04-2025</time>\n",
       "</span>\n",
       "<span class=\"info place-element\">\n",
       "<span aria-hidden=\"true\" class=\"pe-7s-map-marker fs30 v-align-m mr-10\"></span>\n",
       "<span>Online</span>\n",
       "</span>\n",
       "<div class=\"description\">\n",
       "<p>\n",
       "                            El carnet de manipulador de alimentos es un certificado que avala que la persona ha recibido toda la\n",
       "formación imprescindible para manipular alimentos de acuerdo a los principios de ...</p>\n",
       "</div>\n",
       "</div>\n",
       "</article>\n",
       "</li>\n",
       "<li class=\"list-element\">\n",
       "<article class=\"media row lg-spacing-row\">\n",
       "<div class=\"media-object col-xxs-12 col-xs-3\">\n",
       "<div class=\"saga-imagen\">\n",
       "<span class=\"wrapper-image\">\n",
       "<img alt=\"\" class=\"img-responsive\" height=\"320\" src=\"/export/shared/corporativas/default/agenda-l.png_1014274486.png\" width=\"480\"/></span>\n",
       "</div>\n",
       "</div>\n",
       "<div class=\"media-body container-fluid\">\n",
       "<h2 class=\"title-element media-heading h3\">\n",
       "<a href=\"/la-ciudad/agenda/detalle-actividad/index.html?id=139228\">Cita con el Tablero. Taller de Ajedrez Infantil. BPM Cristóbal Cuevas</a>\n",
       "</h2>\n",
       "<span class=\"info date-element\">\n",
       "<span aria-hidden=\"true\" class=\"pe-7s-date fs30 v-align-m mr-10\"></span>\n",
       "<time datetime=\"2025-04-23\">\n",
       "                                    23-04-2025</time>\n",
       "</span>\n",
       "<span class=\"info place-element\">\n",
       "<span aria-hidden=\"true\" class=\"pe-7s-map-marker fs30 v-align-m mr-10\"></span>\n",
       "<span>Biblioteca Pública Municipal \"Cristóbal Cuevas\" (Bailén-Miraflores)</span>\n",
       "</span>\n",
       "<div class=\"description\">\n",
       "<p>\n",
       "                            Dirigido a: niños/as de 6 a 12 años. PREVIA INSCRIPCIÓN. Contenido: Taller de iniciación al ajedrez\n",
       "dirigido a los más pequeños y coordinado por Enrique Díaz Fernández. 2025/04/07 14:04:07</p>\n",
       "</div>\n",
       "</div>\n",
       "</article>\n",
       "</li>\n",
       "<li class=\"list-element\">\n",
       "<article class=\"media row lg-spacing-row\">\n",
       "<div class=\"media-object col-xxs-12 col-xs-3\">\n",
       "<div class=\"saga-imagen\">\n",
       "<span class=\"wrapper-image\">\n",
       "<img alt=\"\" class=\"img-responsive\" height=\"320\" src=\"/export/shared/corporativas/default/agenda-l.png_1014274486.png\" width=\"480\"/></span>\n",
       "</div>\n",
       "</div>\n",
       "<div class=\"media-body container-fluid\">\n",
       "<h2 class=\"title-element media-heading h3\">\n",
       "<a href=\"/la-ciudad/agenda/detalle-actividad/index.html?id=139231\">Día del Libro: Irene Vallejo.</a>\n",
       "</h2>\n",
       "<span class=\"info date-element\">\n",
       "<span aria-hidden=\"true\" class=\"pe-7s-date fs30 v-align-m mr-10\"></span>\n",
       "<time datetime=\"2025-04-23\">\n",
       "                                    23-04-2025</time>\n",
       "</span>\n",
       "<span class=\"info place-element\">\n",
       "<span aria-hidden=\"true\" class=\"pe-7s-map-marker fs30 v-align-m mr-10\"></span>\n",
       "<span>Centre Pompidou Málaga</span>\n",
       "</span>\n",
       "<div class=\"description\">\n",
       "<p>\n",
       "                            Charlará con la autora Ana Cabello, gerente de la Fundación Rafael Pérez Estrada.</p>\n",
       "</div>\n",
       "</div>\n",
       "</article>\n",
       "</li>\n",
       "<li class=\"list-element\">\n",
       "<article class=\"media row lg-spacing-row\">\n",
       "<div class=\"media-object col-xxs-12 col-xs-3\">\n",
       "<div class=\"saga-imagen\">\n",
       "<span class=\"wrapper-image\">\n",
       "<img alt=\"Imagen principal\" class=\"img-responsive\" height=\"320\" src=\"http://www.malaga.eu/inter/visor_contenido/AGDImageDisplayer1/ImagenAgenda48805?id_imagen=48805\" width=\"480\"/>\n",
       "</span>\n",
       "</div>\n",
       "</div>\n",
       "<div class=\"media-body container-fluid\">\n",
       "<h2 class=\"title-element media-heading h3\">\n",
       "<a href=\"/la-ciudad/agenda/detalle-actividad/index.html?id=138905\">TEATRO \"EL CIRCO DE LAS EMOCIONES\" C.E.I.P. PROFESOR E. TIERNO GALVÁN</a>\n",
       "</h2>\n",
       "<span class=\"info date-element\">\n",
       "<span aria-hidden=\"true\" class=\"pe-7s-date fs30 v-align-m mr-10\"></span>\n",
       "<time datetime=\"2025-04-23\">\n",
       "                                    23-04-2025</time>\n",
       "</span>\n",
       "<span class=\"info place-element\">\n",
       "<span aria-hidden=\"true\" class=\"pe-7s-map-marker fs30 v-align-m mr-10\"></span>\n",
       "<span>La Caja Blanca</span>\n",
       "</span>\n",
       "<div class=\"description\">\n",
       "<p>\n",
       "                            Representación teatral correspondiente al proyecto del centro \"Teatro en Familia\"\n",
       "\n",
       "A través de los personajes las niñas y los niños podrán reconocer las diferentes emociones. ...</p>\n",
       "</div>\n",
       "</div>\n",
       "</article>\n",
       "</li>\n",
       "<li class=\"list-element\">\n",
       "<article class=\"media row lg-spacing-row\">\n",
       "<div class=\"media-object col-xxs-12 col-xs-3\">\n",
       "<div class=\"saga-imagen\">\n",
       "<span class=\"wrapper-image\">\n",
       "<img alt=\"\" class=\"img-responsive\" height=\"320\" src=\"/export/shared/corporativas/default/agenda-l.png_1014274486.png\" width=\"480\"/></span>\n",
       "</div>\n",
       "</div>\n",
       "<div class=\"media-body container-fluid\">\n",
       "<h2 class=\"title-element media-heading h3\">\n",
       "<a href=\"/la-ciudad/agenda/detalle-actividad/index.html?id=139155\">Taller de Poesía Grupo 21. B.P.M. Manuel Altolaguirre</a>\n",
       "</h2>\n",
       "<span class=\"info date-element\">\n",
       "<span aria-hidden=\"true\" class=\"pe-7s-date fs30 v-align-m mr-10\"></span>\n",
       "<time datetime=\"2025-04-23\">\n",
       "                                    23-04-2025</time>\n",
       "</span>\n",
       "<span class=\"info place-element\">\n",
       "<span aria-hidden=\"true\" class=\"pe-7s-map-marker fs30 v-align-m mr-10\"></span>\n",
       "<span>Biblioteca Pública Municipal \"Manuel Altolaguirre\" (Cruz)</span>\n",
       "</span>\n",
       "<div class=\"description\">\n",
       "<p>\n",
       "                            Dirigido. Público adulto. PREVIA INSCRIPCIÓN Contenido. Taller de poesía donde se trabaja con\n",
       "distintos recursos poéticos dando a conocer poetas de diferentes etapas y movimientos ...</p>\n",
       "</div>\n",
       "</div>\n",
       "</article>\n",
       "</li>\n",
       "<li class=\"list-element\">\n",
       "<article class=\"media row lg-spacing-row\">\n",
       "<div class=\"media-object col-xxs-12 col-xs-3\">\n",
       "<div class=\"saga-imagen\">\n",
       "<span class=\"wrapper-image\">\n",
       "<img alt=\"Imagen principal\" class=\"img-responsive\" height=\"320\" src=\"http://www.malaga.eu/inter/visor_contenido/AGDImageDisplayer1/ImagenAgenda48997?id_imagen=48997\" width=\"480\"/>\n",
       "</span>\n",
       "</div>\n",
       "</div>\n",
       "<div class=\"media-body container-fluid\">\n",
       "<h2 class=\"title-element media-heading h3\">\n",
       "<a href=\"/la-ciudad/agenda/detalle-actividad/index.html?id=139328\">Tú, tu idea o proyecto y la IA</a>\n",
       "</h2>\n",
       "<span class=\"info date-element\">\n",
       "<span aria-hidden=\"true\" class=\"pe-7s-date fs30 v-align-m mr-10\"></span>\n",
       "<time datetime=\"2025-04-23\">\n",
       "                                    23-04-2025</time>\n",
       "</span>\n",
       "<span class=\"info place-element\">\n",
       "<span aria-hidden=\"true\" class=\"pe-7s-map-marker fs30 v-align-m mr-10\"></span>\n",
       "<span>Unidad de Empresas del IMFE en C/ Victoria nº9</span>\n",
       "</span>\n",
       "<div class=\"description\">\n",
       "<p>\n",
       "                            El objetivo del taller es guiarte en el estudio en profundidad de tu idea o proyecto con las ultimas\n",
       "metodologías utilizando la IA más adecuada para conocer la viabilidad técnica, ...</p>\n",
       "</div>\n",
       "</div>\n",
       "</article>\n",
       "</li>\n",
       "<li class=\"list-element\">\n",
       "<article class=\"media row lg-spacing-row\">\n",
       "<div class=\"media-object col-xxs-12 col-xs-3\">\n",
       "<div class=\"saga-imagen\">\n",
       "<span class=\"wrapper-image\">\n",
       "<img alt=\"Imagen principal\" class=\"img-responsive\" height=\"320\" src=\"http://www.malaga.eu/inter/visor_contenido/AGDImageDisplayer1/ImagenAgenda48900?id_imagen=48900\" width=\"480\"/>\n",
       "</span>\n",
       "</div>\n",
       "</div>\n",
       "<div class=\"media-body container-fluid\">\n",
       "<h2 class=\"title-element media-heading h3\">\n",
       "<a href=\"/la-ciudad/agenda/detalle-actividad/index.html?id=139041\">Mindfulness (Edición 1) [Plazas agotadas]</a>\n",
       "</h2>\n",
       "<span class=\"info date-element\">\n",
       "<span aria-hidden=\"true\" class=\"pe-7s-date fs30 v-align-m mr-10\"></span>\n",
       "<span>Desde</span>\n",
       "<time datetime=\"2025-04-23\">\n",
       "                                    23-04-2025</time>\n",
       "<span> // </span>\n",
       "<span>Hasta</span>\n",
       "<time datetime=\"2025-04-30\">\n",
       "                                    30-04-2025</time>\n",
       "</span>\n",
       "<span class=\"info place-element\">\n",
       "<span aria-hidden=\"true\" class=\"pe-7s-map-marker fs30 v-align-m mr-10\"></span>\n",
       "<span>Las sesiones presenciales son en C/ Concejal Muñoz Cerván 3. Módulo 5 (Tabacalera)</span>\n",
       "</span>\n",
       "<div class=\"description\">\n",
       "<p>\n",
       "                            Con el objeto de facilitar la inserción laboral se ha puesto en marcha el Programa de Competencias\n",
       "Profesionales para el Empleo que se compone de acciones formativas eminentemente ...</p>\n",
       "</div>\n",
       "</div>\n",
       "</article>\n",
       "</li>\n",
       "<li class=\"list-element\">\n",
       "<article class=\"media row lg-spacing-row\">\n",
       "<div class=\"media-object col-xxs-12 col-xs-3\">\n",
       "<div class=\"saga-imagen\">\n",
       "<span class=\"wrapper-image\">\n",
       "<img alt=\"Imagen principal\" class=\"img-responsive\" height=\"320\" src=\"http://www.malaga.eu/inter/visor_contenido/AGDImageDisplayer1/ImagenAgenda48938?id_imagen=48938\" width=\"480\"/>\n",
       "</span>\n",
       "</div>\n",
       "</div>\n",
       "<div class=\"media-body container-fluid\">\n",
       "<h2 class=\"title-element media-heading h3\">\n",
       "<a href=\"/la-ciudad/agenda/detalle-actividad/index.html?id=139217\">Gestión del Estrés y Trabajo Bajo Presión (CTRR0014)</a>\n",
       "</h2>\n",
       "<span class=\"info date-element\">\n",
       "<span aria-hidden=\"true\" class=\"pe-7s-date fs30 v-align-m mr-10\"></span>\n",
       "<span>Desde</span>\n",
       "<time datetime=\"2025-04-21\">\n",
       "                                    21-04-2025</time>\n",
       "<span> // </span>\n",
       "<span>Hasta</span>\n",
       "<time datetime=\"2025-05-21\">\n",
       "                                    21-05-2025</time>\n",
       "</span>\n",
       "<span class=\"info place-element\">\n",
       "<span aria-hidden=\"true\" class=\"pe-7s-map-marker fs30 v-align-m mr-10\"></span>\n",
       "<span>Online</span>\n",
       "</span>\n",
       "<div class=\"description\">\n",
       "<p>\n",
       "                            Módulo 1.- CONCEPTUALIZACIÓN DEL ESTRÉS Módulo 2.- CÓMO MANEJAR EL TRABAJO BAJO PRESIÓN Módulo 3.-\n",
       "TÉCNICAS DE RELAJACIÓN Y MINDFULNESS</p>\n",
       "</div>\n",
       "</div>\n",
       "</article>\n",
       "</li>\n",
       "<li class=\"list-element\">\n",
       "<article class=\"media row lg-spacing-row\">\n",
       "<div class=\"media-object col-xxs-12 col-xs-3\">\n",
       "<div class=\"saga-imagen\">\n",
       "<span class=\"wrapper-image\">\n",
       "<img alt=\"\" class=\"img-responsive\" height=\"320\" src=\"/export/shared/corporativas/default/agenda-l.png_1014274486.png\" width=\"480\"/></span>\n",
       "</div>\n",
       "</div>\n",
       "<div class=\"media-body container-fluid\">\n",
       "<h2 class=\"title-element media-heading h3\">\n",
       "<a href=\"/la-ciudad/agenda/detalle-actividad/index.html?id=139148\">Club de Lectura para Adultos. B.P.M. Manuel Altolaguirre</a>\n",
       "</h2>\n",
       "<span class=\"info date-element\">\n",
       "<span aria-hidden=\"true\" class=\"pe-7s-date fs30 v-align-m mr-10\"></span>\n",
       "<time datetime=\"2025-04-24\">\n",
       "                                    24-04-2025</time>\n",
       "</span>\n",
       "<span class=\"info place-element\">\n",
       "<span aria-hidden=\"true\" class=\"pe-7s-map-marker fs30 v-align-m mr-10\"></span>\n",
       "<span>Biblioteca Pública Municipal \"Manuel Altolaguirre\" (Cruz)</span>\n",
       "</span>\n",
       "<div class=\"description\">\n",
       "<p>\n",
       "                            Dirigido a: Personas adultas. PREVIA INSCRIPCIÓN. Contenido: La lectura es un placer que se disfruta\n",
       "en solitario pero se convierte en apasionante cuando las aventuras leídas se ...</p>\n",
       "</div>\n",
       "</div>\n",
       "</article>\n",
       "</li>\n",
       "<li class=\"list-element\">\n",
       "<article class=\"media row lg-spacing-row\">\n",
       "<div class=\"media-object col-xxs-12 col-xs-3\">\n",
       "<div class=\"saga-imagen\">\n",
       "<span class=\"wrapper-image\">\n",
       "<img alt=\"\" class=\"img-responsive\" height=\"320\" src=\"/export/shared/corporativas/default/agenda-l.png_1014274486.png\" width=\"480\"/></span>\n",
       "</div>\n",
       "</div>\n",
       "<div class=\"media-body container-fluid\">\n",
       "<h2 class=\"title-element media-heading h3\">\n",
       "<a href=\"/la-ciudad/agenda/detalle-actividad/index.html?id=139152\">Club de Lectura para Adultos. B.P.M. Serafín Estébanez Calderón</a>\n",
       "</h2>\n",
       "<span class=\"info date-element\">\n",
       "<span aria-hidden=\"true\" class=\"pe-7s-date fs30 v-align-m mr-10\"></span>\n",
       "<time datetime=\"2025-04-24\">\n",
       "                                    24-04-2025</time>\n",
       "</span>\n",
       "<span class=\"info place-element\">\n",
       "<span aria-hidden=\"true\" class=\"pe-7s-map-marker fs30 v-align-m mr-10\"></span>\n",
       "<span>Biblioteca Pública Municipal \"Dámaso Alonso\" (Jardín de Málaga)</span>\n",
       "</span>\n",
       "<div class=\"description\">\n",
       "<p>\n",
       "                            Dirigido a: Adultos a partir de 18 años. PREVIA INSCRIPCIÓN. Contenido: La lectura es un placer que\n",
       "se disfruta en solitario pero se convierte en apasionante cuando las aventuras ...</p>\n",
       "</div>\n",
       "</div>\n",
       "</article>\n",
       "</li>\n",
       "</ul>\n",
       "</div>\n",
       "</div>\n",
       "</div>"
      ]
     },
     "execution_count": 7,
     "metadata": {},
     "output_type": "execute_result"
    }
   ],
   "execution_count": 7
  },
  {
   "cell_type": "markdown",
   "source": "Dentro, podemos quedarnos con la información de cada evento, que está en un `<article class=\"media row\">`",
   "metadata": {
    "collapsed": false
   }
  },
  {
   "metadata": {
    "ExecuteTime": {
     "end_time": "2025-04-22T21:32:24.487606Z",
     "start_time": "2025-04-22T21:32:24.472604Z"
    }
   },
   "cell_type": "code",
   "source": [
    "events = events_container.find_all('article', class_='media')\n",
    "\n",
    "print(f\"Eventos en la página: {len(events)}\")\n",
    "events[:2]"
   ],
   "outputs": [
    {
     "name": "stdout",
     "output_type": "stream",
     "text": [
      "Eventos en la página: 10\n"
     ]
    },
    {
     "data": {
      "text/plain": [
       "[<article class=\"media row lg-spacing-row\">\n",
       " <div class=\"media-object col-xxs-12 col-xs-3\">\n",
       " <div class=\"saga-imagen\">\n",
       " <span class=\"wrapper-image\">\n",
       " <img alt=\"Imagen principal\" class=\"img-responsive\" height=\"320\" src=\"http://www.malaga.eu/inter/visor_contenido/AGDImageDisplayer1/ImagenAgenda48700?id_imagen=48700\" width=\"480\"/>\n",
       " </span>\n",
       " </div>\n",
       " </div>\n",
       " <div class=\"media-body container-fluid\">\n",
       " <h2 class=\"title-element media-heading h3\">\n",
       " <a href=\"/la-ciudad/agenda/detalle-actividad/index.html?id=138182\">Manipulador de Alimentos para Celíacos</a>\n",
       " </h2>\n",
       " <span class=\"info date-element\">\n",
       " <span aria-hidden=\"true\" class=\"pe-7s-date fs30 v-align-m mr-10\"></span>\n",
       " <time datetime=\"2025-04-23\">\n",
       "                                     23-04-2025</time>\n",
       " </span>\n",
       " <span class=\"info place-element\">\n",
       " <span aria-hidden=\"true\" class=\"pe-7s-map-marker fs30 v-align-m mr-10\"></span>\n",
       " <span>Online</span>\n",
       " </span>\n",
       " <div class=\"description\">\n",
       " <p>\n",
       "                             El carnet de manipulador de alimentos es un certificado que avala que la persona ha recibido toda la\n",
       " formación imprescindible para manipular alimentos de acuerdo a los principios de ...</p>\n",
       " </div>\n",
       " </div>\n",
       " </article>,\n",
       " <article class=\"media row lg-spacing-row\">\n",
       " <div class=\"media-object col-xxs-12 col-xs-3\">\n",
       " <div class=\"saga-imagen\">\n",
       " <span class=\"wrapper-image\">\n",
       " <img alt=\"\" class=\"img-responsive\" height=\"320\" src=\"/export/shared/corporativas/default/agenda-l.png_1014274486.png\" width=\"480\"/></span>\n",
       " </div>\n",
       " </div>\n",
       " <div class=\"media-body container-fluid\">\n",
       " <h2 class=\"title-element media-heading h3\">\n",
       " <a href=\"/la-ciudad/agenda/detalle-actividad/index.html?id=139228\">Cita con el Tablero. Taller de Ajedrez Infantil. BPM Cristóbal Cuevas</a>\n",
       " </h2>\n",
       " <span class=\"info date-element\">\n",
       " <span aria-hidden=\"true\" class=\"pe-7s-date fs30 v-align-m mr-10\"></span>\n",
       " <time datetime=\"2025-04-23\">\n",
       "                                     23-04-2025</time>\n",
       " </span>\n",
       " <span class=\"info place-element\">\n",
       " <span aria-hidden=\"true\" class=\"pe-7s-map-marker fs30 v-align-m mr-10\"></span>\n",
       " <span>Biblioteca Pública Municipal \"Cristóbal Cuevas\" (Bailén-Miraflores)</span>\n",
       " </span>\n",
       " <div class=\"description\">\n",
       " <p>\n",
       "                             Dirigido a: niños/as de 6 a 12 años. PREVIA INSCRIPCIÓN. Contenido: Taller de iniciación al ajedrez\n",
       " dirigido a los más pequeños y coordinado por Enrique Díaz Fernández. 2025/04/07 14:04:07</p>\n",
       " </div>\n",
       " </div>\n",
       " </article>]"
      ]
     },
     "execution_count": 8,
     "metadata": {},
     "output_type": "execute_result"
    }
   ],
   "execution_count": 8
  },
  {
   "metadata": {},
   "cell_type": "markdown",
   "source": "Explorando más, podemos ver que para cada evento tenemos un link a su página de detalle. Vamos a recopilar todas las urls de los eventos."
  },
  {
   "metadata": {
    "ExecuteTime": {
     "end_time": "2025-04-22T21:32:24.533605Z",
     "start_time": "2025-04-22T21:32:24.519606Z"
    }
   },
   "cell_type": "code",
   "source": [
    "event_links = [\n",
    "    event.find(\"h2\").find(\"a\")[\"href\"] for event in events\n",
    "]\n",
    "\n",
    "event_links"
   ],
   "outputs": [
    {
     "data": {
      "text/plain": [
       "['/la-ciudad/agenda/detalle-actividad/index.html?id=138182',\n",
       " '/la-ciudad/agenda/detalle-actividad/index.html?id=139228',\n",
       " '/la-ciudad/agenda/detalle-actividad/index.html?id=139231',\n",
       " '/la-ciudad/agenda/detalle-actividad/index.html?id=138905',\n",
       " '/la-ciudad/agenda/detalle-actividad/index.html?id=139155',\n",
       " '/la-ciudad/agenda/detalle-actividad/index.html?id=139328',\n",
       " '/la-ciudad/agenda/detalle-actividad/index.html?id=139041',\n",
       " '/la-ciudad/agenda/detalle-actividad/index.html?id=139217',\n",
       " '/la-ciudad/agenda/detalle-actividad/index.html?id=139148',\n",
       " '/la-ciudad/agenda/detalle-actividad/index.html?id=139152']"
      ]
     },
     "execution_count": 9,
     "metadata": {},
     "output_type": "execute_result"
    }
   ],
   "execution_count": 9
  },
  {
   "metadata": {
    "collapsed": false
   },
   "cell_type": "markdown",
   "source": "Exploramos lo que aparece en una página de evento"
  },
  {
   "metadata": {
    "collapsed": false,
    "ExecuteTime": {
     "end_time": "2025-04-22T21:32:25.162834Z",
     "start_time": "2025-04-22T21:32:24.581606Z"
    }
   },
   "cell_type": "code",
   "source": [
    "base_url = 'https://www.malaga.eu'\n",
    "\n",
    "event = event_links[0]\n",
    "\n",
    "html_e = get(f'{base_url}{event}', headers=headers)\n",
    "\n",
    "soup = BeautifulSoup(html_e.text)\n",
    "# Como antes, nos quedamos con la parte que contiene la información del evento\n",
    "soup = soup.find(\"article\")\n",
    "soup"
   ],
   "outputs": [
    {
     "data": {
      "text/plain": [
       "<article class=\"articulo element parent sg-actividad\">\n",
       "<div class=\"wrapper\">\n",
       "<header class=\"headline\">\n",
       "<h1 class=\"title\"> Manipulador de Alimentos para Celíacos</h1>\n",
       "</header>\n",
       "<div class=\"contentblock\">\n",
       "<div class=\"contentblock-texto row\">\n",
       "<div class=\"media-object image col-xxs-12 col-sm-5 pull-right pos-right\">\n",
       "<div class=\"saga-imagen\">\n",
       "<a class=\"wrapper-image zoom-filter\" data-title=\" Manipulador de Alimentos para Celíacos\" href=\"https://www.malaga.eu/visorcontenido/AGDImageDisplayer1/48700/ImagenAgenda48700\" title=\"Ampliar imagen agenda-l\">\n",
       "<div class=\"overlay-zoom\">\n",
       "<img alt=\" Manipulador de Alimentos para Celíacos\" class=\"img-responsive\" height=\"300\" src=\"https://www.malaga.eu/visorcontenido/AGDImageDisplayer1/48700/ImagenAgenda48700\" width=\"440\"/>\n",
       "<div class=\"zoom-icon\">\n",
       "<span aria-hidden=\"true\" class=\"fa fa-expand\"></span>\n",
       "</div>\n",
       "</div>\n",
       "</a>\n",
       "<span class=\"saga-imagen-pie\"><span class=\"saga-imagen-pie-content\"><!-- Pie de imagen --></span></span>\n",
       "</div>\n",
       "</div>\n",
       "<div class=\"container-fluid\">\n",
       "<div class=\"info-wrapper\">\n",
       "<div class=\"info date-element\">\n",
       "<span aria-hidden=\"true\" class=\"pe-7s-date fs30 v-align-m mr-10\"></span>\n",
       "<span>Desde</span>\n",
       "<time datetime=\"1745359200000\">\n",
       "                                    23/4/2025</time>\n",
       "<span> // </span>\n",
       "<span>Hasta</span>\n",
       "<time datetime=\"1745359200000\">\n",
       "                                    23/4/2025</time>\n",
       "</div>\n",
       "</div>\n",
       "<p>El carnet de manipulador de alimentos es un certificado que avala que la persona ha recibido toda la formación imprescindible para manipular alimentos de acuerdo a los principios de higiene y seguridad alimentaria.     </p>\n",
       "<div class=\"h3\">Ficha Informativa</div>\n",
       "<dl class=\"dl-horizontal dl-basic\">\n",
       "<dt>Evento:</dt>\n",
       "<dd>IMFE: Jornadas y seminarios </dd>\n",
       "<dt>Otros lugares:</dt>\n",
       "<dd>Online</dd>\n",
       "<dt>Horario:</dt>\n",
       "<dd>08.30 A 14.30 H (SOLO UN DÍA DURANTE 6 HORAS)-A través de la plataforma GoToMeeting</dd>\n",
       "<dt>Web:</dt>\n",
       "<dd><a href=\"https://imfe.malaga.eu/imfeinscripciones/inscripcion/13753\" target=\"_blank\">https://imfe.malaga.eu/imfeinscripciones/inscripcion/13753</a></dd>\n",
       "<dt>Precio:</dt>\n",
       "<dd>Gratuito</dd>\n",
       "<dt>Email:</dt>\n",
       "<dd>imfeformacion@malaga.eu</dd>\n",
       "<dt>Fecha Inscripción:</dt>\n",
       "<dd>\n",
       "                            \n",
       "                            Desde \n",
       "                            <time datetime=\"1745359200000\">\n",
       "                                    3/2/2025</time>\n",
       "                            \n",
       "                            Hasta \n",
       "                            <time datetime=\"1745359200000\">\n",
       "                                    13/4/2025</time>\n",
       "</dd>\n",
       "<dt>Destinatarios:</dt>\n",
       "<dd>\n",
       "                            \n",
       "                               Adultos\n",
       "                            </dd>\n",
       "</dl>\n",
       "</div>\n",
       "</div>\n",
       "</div>\n",
       "</div>\n",
       "</article>"
      ]
     },
     "execution_count": 10,
     "metadata": {},
     "output_type": "execute_result"
    }
   ],
   "execution_count": 10
  },
  {
   "metadata": {
    "collapsed": false
   },
   "cell_type": "markdown",
   "source": "Una función para obtener la información de un evento a partir de esta url:"
  },
  {
   "metadata": {
    "collapsed": false,
    "ExecuteTime": {
     "end_time": "2025-04-22T21:32:25.811649Z",
     "start_time": "2025-04-22T21:32:25.180836Z"
    }
   },
   "cell_type": "code",
   "source": [
    "def get_event_info(event_link: str) -> dict:\n",
    "\n",
    "    html = get(f'{base_url}{event_link}', headers=headers)\n",
    "    soup = BeautifulSoup(html.text)\n",
    "    base = {'event_link': event_link}\n",
    "\n",
    "    try:\n",
    "        div_info = soup.find(\"article\")\n",
    "    # El manejo de errores se puede mejorar (debemos comprobar los errores que podemos recibir)\n",
    "    except:\n",
    "        # Si no encontramos el div_info, devolvemos un diccionario con solo el link del evento\n",
    "        return base\n",
    "\n",
    "    info = {\n",
    "        # Detecta el tag <h1>, y nos quedamos con el contenido de \"text\"\n",
    "        'title': div_info.h1.text.strip(),\n",
    "        # Detecta las fechas en el tag <div class=\"info date-element\">:\n",
    "        \"dates\": [t.text.strip() for t in div_info.find(\"div\", class_=\"date-element\").find_all(\"time\")],\n",
    "        # Detecta el único elemento <p> de los datos del evento\n",
    "        \"description\": div_info.find(\"p\").text.strip(),\n",
    "        # Guardamos el texto bajo el título \"Ficha informativa\". Lo podemos guardar como datos menos estructurados para analizarlos luego\n",
    "        # Además, limpiamos un poco el texto mediante expresiones regulares.\n",
    "        # `re.sub(r\" {2,}\", \" \", text)` sustituye los espacios en blanco que van seguidos por un solo espacio\n",
    "        \"info\": re.sub(r\" {2,}\", \" \", div_info.find(\"div\", class_=\"h3\").find_next_sibling().get_text()).strip(),\n",
    "    }\n",
    "    # Detecta el tag <img class=\"img-responsive\">, y nos quedamos con el contenido de \"src\"\n",
    "    if (img_data := div_info.find(\"img\", class_=\"img-responsive\")) is not None:\n",
    "       info[\"img_url\"] = img_data[\"src\"]\n",
    "\n",
    "    # Algunos eventos tienen la información de la ubicación\n",
    "    try:\n",
    "        location_elem = div_info.find(\"div\", class_=\"place-element\").find(\"a\")\n",
    "        location = {\n",
    "            'location_url': location_elem[\"href\"],\n",
    "            'location_name': location_elem.text.strip()\n",
    "        }\n",
    "    except:\n",
    "        location = {}\n",
    "    return {**base, **info, **location}\n",
    "\n",
    "\n",
    "get_event_info(event_links[1])"
   ],
   "outputs": [
    {
     "data": {
      "text/plain": [
       "{'event_link': '/la-ciudad/agenda/detalle-actividad/index.html?id=139228',\n",
       " 'title': 'Cita con el Tablero. Taller de Ajedrez Infantil. BPM Cristóbal Cuevas',\n",
       " 'dates': ['23/4/2025', '23/4/2025'],\n",
       " 'description': 'Dirigido a: niños/as de 6 a 12 años. PREVIA INSCRIPCIÓN. Contenido: Taller de iniciación al ajedrez dirigido a los más pequeños y coordinado por Enrique Díaz Fernández.          2025/04/07 14:04:07',\n",
       " 'info': 'Evento:\\nPlan de Fomento a la Lectura en las Bibliotecas Municipales 2025\\nHorario:\\n18:30 horas\\nTeléfono:\\n951 92 6184\\nPrecio:\\nGratuito\\nEmail:\\nbiblio.ccuevas@malaga.eu\\nDestinatarios:\\n\\n \\n Infantil',\n",
       " 'img_url': '/export/shared/corporativas/default/agenda-l.png',\n",
       " 'location_url': '/la-ciudad/instalaciones-y-espacios/detalle-de-la-instalacion/?id=3011',\n",
       " 'location_name': 'Biblioteca Pública Municipal \"Cristóbal Cuevas\" (Bailén-Miraflores)'}"
      ]
     },
     "execution_count": 11,
     "metadata": {},
     "output_type": "execute_result"
    }
   ],
   "execution_count": 11
  },
  {
   "metadata": {},
   "cell_type": "markdown",
   "source": "Ahora podemos recopilar todos los eventos de la página. Antes recogimos solo los eventos de la primera página. Vamos a recorrer todas las páginas de eventos."
  },
  {
   "metadata": {
    "ExecuteTime": {
     "end_time": "2025-04-22T21:32:35.311337Z",
     "start_time": "2025-04-22T21:32:25.829653Z"
    }
   },
   "cell_type": "code",
   "source": [
    "page_idxs = range(1, 7)  # 6 páginas de eventos\n",
    "\n",
    "# Recorremos las páginas de eventos\n",
    "# La librería `tqdm` nos permite mostrar una barra de progreso\n",
    "for page_idx in tqdm(page_idxs):\n",
    "    url = f'https://www.malaga.eu/la-ciudad/agenda/index.html?mas=true&pageNum={page_idx}'\n",
    "    html = get(url, headers=headers)\n",
    "    soup = BeautifulSoup(html.text)\n",
    "    # Repetimos el proceso anterior para obtener los links de los eventos\n",
    "    events_container = soup.find('div', id='agenda')\n",
    "    events = events_container.find_all('article', class_='media')\n",
    "    event_links += [event.find(\"h2\").find(\"a\")[\"href\"] for event in events]\n",
    "    # Esperamos un segundo entre peticiones para no saturar el servidor de la página que estamos scrapeando\n",
    "    sleep(1)\n",
    "\n",
    "print(f\"Eventos encontrados: {len(event_links)}\")\n",
    "# Mostramos los dos primeros\n",
    "event_links[:2]"
   ],
   "outputs": [
    {
     "data": {
      "text/plain": [
       "  0%|          | 0/6 [00:00<?, ?it/s]"
      ],
      "application/vnd.jupyter.widget-view+json": {
       "version_major": 2,
       "version_minor": 0,
       "model_id": "2fe30089ba694ade97b4a5dbee996724"
      }
     },
     "metadata": {},
     "output_type": "display_data"
    },
    {
     "name": "stdout",
     "output_type": "stream",
     "text": [
      "Eventos encontrados: 63\n"
     ]
    },
    {
     "data": {
      "text/plain": [
       "['/la-ciudad/agenda/detalle-actividad/index.html?id=138182',\n",
       " '/la-ciudad/agenda/detalle-actividad/index.html?id=139228']"
      ]
     },
     "execution_count": 12,
     "metadata": {},
     "output_type": "execute_result"
    }
   ],
   "execution_count": 12
  },
  {
   "cell_type": "markdown",
   "source": "Por último, recorremos las urls de los eventos que hemos encontrado para guardar su información",
   "metadata": {
    "collapsed": false
   }
  },
  {
   "cell_type": "code",
   "source": [
    "events_info = []\n",
    "for event_link in tqdm(event_links):\n",
    "    events_info.append(get_event_info(event_link))\n",
    "    sleep(.5)\n",
    "\n",
    "len(events_info)"
   ],
   "metadata": {
    "collapsed": false,
    "ExecuteTime": {
     "end_time": "2025-04-22T21:33:43.835467Z",
     "start_time": "2025-04-22T21:32:35.342340Z"
    }
   },
   "outputs": [
    {
     "data": {
      "text/plain": [
       "  0%|          | 0/63 [00:00<?, ?it/s]"
      ],
      "application/vnd.jupyter.widget-view+json": {
       "version_major": 2,
       "version_minor": 0,
       "model_id": "5feff87985bc4618b6c301d032bc2bc3"
      }
     },
     "metadata": {},
     "output_type": "display_data"
    },
    {
     "data": {
      "text/plain": [
       "63"
      ]
     },
     "execution_count": 13,
     "metadata": {},
     "output_type": "execute_result"
    }
   ],
   "execution_count": 13
  },
  {
   "cell_type": "markdown",
   "source": [
    "Podemos poner la respuesta como una tabla"
   ],
   "metadata": {
    "collapsed": false
   }
  },
  {
   "cell_type": "code",
   "source": [
    "df = DataFrame(events_info)\n",
    "df"
   ],
   "metadata": {
    "collapsed": false,
    "ExecuteTime": {
     "end_time": "2025-04-22T21:33:43.927467Z",
     "start_time": "2025-04-22T21:33:43.899470Z"
    }
   },
   "outputs": [
    {
     "data": {
      "text/plain": [
       "                                           event_link  \\\n",
       "0   /la-ciudad/agenda/detalle-actividad/index.html...   \n",
       "1   /la-ciudad/agenda/detalle-actividad/index.html...   \n",
       "2   /la-ciudad/agenda/detalle-actividad/index.html...   \n",
       "3   /la-ciudad/agenda/detalle-actividad/index.html...   \n",
       "4   /la-ciudad/agenda/detalle-actividad/index.html...   \n",
       "..                                                ...   \n",
       "58  /la-ciudad/agenda/detalle-actividad/index.html...   \n",
       "59  /la-ciudad/agenda/detalle-actividad/index.html...   \n",
       "60  /la-ciudad/agenda/detalle-actividad/index.html...   \n",
       "61  /la-ciudad/agenda/detalle-actividad/index.html...   \n",
       "62  /la-ciudad/agenda/detalle-actividad/index.html...   \n",
       "\n",
       "                                                title  \\\n",
       "0              Manipulador de Alimentos para Celíacos   \n",
       "1   Cita con el Tablero. Taller de Ajedrez Infanti...   \n",
       "2                       Día del Libro: Irene Vallejo.   \n",
       "3   TEATRO \"EL CIRCO DE LAS EMOCIONES\" C.E.I.P. PR...   \n",
       "4   Taller de Poesía Grupo 21. B.P.M. Manuel Altol...   \n",
       "..                                                ...   \n",
       "58                             Taller de manualidades   \n",
       "59                                   Terapia de grupo   \n",
       "60         Simed, Salón Inmobiliario del Mediterráneo   \n",
       "61                        Picasso. Imágenes cerámicas   \n",
       "62               Museo del Vidrio y Cristal de Málaga   \n",
       "\n",
       "                       dates  \\\n",
       "0     [23/4/2025, 23/4/2025]   \n",
       "1     [23/4/2025, 23/4/2025]   \n",
       "2     [23/4/2025, 23/4/2025]   \n",
       "3     [23/4/2025, 23/4/2025]   \n",
       "4     [23/4/2025, 23/4/2025]   \n",
       "..                       ...   \n",
       "58    [4/10/2024, 4/10/2025]   \n",
       "59    [4/10/2024, 4/10/2025]   \n",
       "60  [13/11/2025, 15/11/2025]   \n",
       "61    [14/6/2024, 6/10/2025]   \n",
       "62    [15/7/2010, 15/7/2100]   \n",
       "\n",
       "                                          description  \\\n",
       "0   El carnet de manipulador de alimentos es un ce...   \n",
       "1   Dirigido a: niños/as de 6 a 12 años. PREVIA IN...   \n",
       "2   Charlará con la autora Ana Cabello, gerente de...   \n",
       "3   Representación teatral correspondiente al proy...   \n",
       "4   Dirigido. Público adulto. PREVIA INSCRIPCIÓN\\r...   \n",
       "..                                                ...   \n",
       "58  Taller de manualidades donde se practican y ap...   \n",
       "59  Sesiones de Terapia de grupo en relación a asp...   \n",
       "60  El evento líder del sector residencial especia...   \n",
       "61  La cerámica de Picasso ha sido injustamente vi...   \n",
       "62  Exposicion permanenete en el Museo del Vidrio ...   \n",
       "\n",
       "                                                 info  \\\n",
       "0   Evento:\\nIMFE: Jornadas y seminarios \\nOtros l...   \n",
       "1   Evento:\\nPlan de Fomento a la Lectura en las B...   \n",
       "2   Evento:\\nFundación Rafael Pérez Estrada\\nHorar...   \n",
       "3   Evento:\\nLA CAJA BLANCA - Auditorio 2025\\nHora...   \n",
       "4   Evento:\\nPlan de Fomento a la Lectura en las B...   \n",
       "..                                                ...   \n",
       "58  Evento:\\nACTIVIDADES AMFAEM 2024-25\\nOtros lug...   \n",
       "59  Evento:\\nACTIVIDADES AMFAEM 2024-25\\nOtros lug...   \n",
       "60  Evento:\\nSimed ¿ Salón Inmobiliario del Medite...   \n",
       "61  Evento:\\nMuseo Casa Natal Picasso\\nHorario:\\nD...   \n",
       "62  Evento:\\nExposición de la colección de Gonzalo...   \n",
       "\n",
       "                                              img_url  \\\n",
       "0   https://www.malaga.eu/visorcontenido/AGDImageD...   \n",
       "1    /export/shared/corporativas/default/agenda-l.png   \n",
       "2    /export/shared/corporativas/default/agenda-l.png   \n",
       "3                                                 NaN   \n",
       "4    /export/shared/corporativas/default/agenda-l.png   \n",
       "..                                                ...   \n",
       "58   /export/shared/corporativas/default/agenda-l.png   \n",
       "59   /export/shared/corporativas/default/agenda-l.png   \n",
       "60  https://www.malaga.eu/visorcontenido/AGDImageD...   \n",
       "61   /export/shared/corporativas/default/agenda-l.png   \n",
       "62   /export/shared/corporativas/default/agenda-l.png   \n",
       "\n",
       "                                         location_url  \\\n",
       "0                                                 NaN   \n",
       "1   /la-ciudad/instalaciones-y-espacios/detalle-de...   \n",
       "2   /la-ciudad/instalaciones-y-espacios/detalle-de...   \n",
       "3   /la-ciudad/instalaciones-y-espacios/detalle-de...   \n",
       "4   /la-ciudad/instalaciones-y-espacios/detalle-de...   \n",
       "..                                                ...   \n",
       "58                                                NaN   \n",
       "59                                                NaN   \n",
       "60  /la-ciudad/instalaciones-y-espacios/detalle-de...   \n",
       "61  /la-ciudad/instalaciones-y-espacios/detalle-de...   \n",
       "62                                                NaN   \n",
       "\n",
       "                                        location_name  \n",
       "0                                                 NaN  \n",
       "1   Biblioteca Pública Municipal \"Cristóbal Cuevas...  \n",
       "2                              Centre Pompidou Málaga  \n",
       "3                                      La Caja Blanca  \n",
       "4   Biblioteca Pública Municipal \"Manuel Altolagui...  \n",
       "..                                                ...  \n",
       "58                                                NaN  \n",
       "59                                                NaN  \n",
       "60            Palacio de Ferias y Congresos de Málaga  \n",
       "61                           Museo Casa Natal Picasso  \n",
       "62                                                NaN  \n",
       "\n",
       "[63 rows x 8 columns]"
      ],
      "text/html": [
       "<div>\n",
       "<style scoped>\n",
       "    .dataframe tbody tr th:only-of-type {\n",
       "        vertical-align: middle;\n",
       "    }\n",
       "\n",
       "    .dataframe tbody tr th {\n",
       "        vertical-align: top;\n",
       "    }\n",
       "\n",
       "    .dataframe thead th {\n",
       "        text-align: right;\n",
       "    }\n",
       "</style>\n",
       "<table border=\"1\" class=\"dataframe\">\n",
       "  <thead>\n",
       "    <tr style=\"text-align: right;\">\n",
       "      <th></th>\n",
       "      <th>event_link</th>\n",
       "      <th>title</th>\n",
       "      <th>dates</th>\n",
       "      <th>description</th>\n",
       "      <th>info</th>\n",
       "      <th>img_url</th>\n",
       "      <th>location_url</th>\n",
       "      <th>location_name</th>\n",
       "    </tr>\n",
       "  </thead>\n",
       "  <tbody>\n",
       "    <tr>\n",
       "      <th>0</th>\n",
       "      <td>/la-ciudad/agenda/detalle-actividad/index.html...</td>\n",
       "      <td>Manipulador de Alimentos para Celíacos</td>\n",
       "      <td>[23/4/2025, 23/4/2025]</td>\n",
       "      <td>El carnet de manipulador de alimentos es un ce...</td>\n",
       "      <td>Evento:\\nIMFE: Jornadas y seminarios \\nOtros l...</td>\n",
       "      <td>https://www.malaga.eu/visorcontenido/AGDImageD...</td>\n",
       "      <td>NaN</td>\n",
       "      <td>NaN</td>\n",
       "    </tr>\n",
       "    <tr>\n",
       "      <th>1</th>\n",
       "      <td>/la-ciudad/agenda/detalle-actividad/index.html...</td>\n",
       "      <td>Cita con el Tablero. Taller de Ajedrez Infanti...</td>\n",
       "      <td>[23/4/2025, 23/4/2025]</td>\n",
       "      <td>Dirigido a: niños/as de 6 a 12 años. PREVIA IN...</td>\n",
       "      <td>Evento:\\nPlan de Fomento a la Lectura en las B...</td>\n",
       "      <td>/export/shared/corporativas/default/agenda-l.png</td>\n",
       "      <td>/la-ciudad/instalaciones-y-espacios/detalle-de...</td>\n",
       "      <td>Biblioteca Pública Municipal \"Cristóbal Cuevas...</td>\n",
       "    </tr>\n",
       "    <tr>\n",
       "      <th>2</th>\n",
       "      <td>/la-ciudad/agenda/detalle-actividad/index.html...</td>\n",
       "      <td>Día del Libro: Irene Vallejo.</td>\n",
       "      <td>[23/4/2025, 23/4/2025]</td>\n",
       "      <td>Charlará con la autora Ana Cabello, gerente de...</td>\n",
       "      <td>Evento:\\nFundación Rafael Pérez Estrada\\nHorar...</td>\n",
       "      <td>/export/shared/corporativas/default/agenda-l.png</td>\n",
       "      <td>/la-ciudad/instalaciones-y-espacios/detalle-de...</td>\n",
       "      <td>Centre Pompidou Málaga</td>\n",
       "    </tr>\n",
       "    <tr>\n",
       "      <th>3</th>\n",
       "      <td>/la-ciudad/agenda/detalle-actividad/index.html...</td>\n",
       "      <td>TEATRO \"EL CIRCO DE LAS EMOCIONES\" C.E.I.P. PR...</td>\n",
       "      <td>[23/4/2025, 23/4/2025]</td>\n",
       "      <td>Representación teatral correspondiente al proy...</td>\n",
       "      <td>Evento:\\nLA CAJA BLANCA - Auditorio 2025\\nHora...</td>\n",
       "      <td>NaN</td>\n",
       "      <td>/la-ciudad/instalaciones-y-espacios/detalle-de...</td>\n",
       "      <td>La Caja Blanca</td>\n",
       "    </tr>\n",
       "    <tr>\n",
       "      <th>4</th>\n",
       "      <td>/la-ciudad/agenda/detalle-actividad/index.html...</td>\n",
       "      <td>Taller de Poesía Grupo 21. B.P.M. Manuel Altol...</td>\n",
       "      <td>[23/4/2025, 23/4/2025]</td>\n",
       "      <td>Dirigido. Público adulto. PREVIA INSCRIPCIÓN\\r...</td>\n",
       "      <td>Evento:\\nPlan de Fomento a la Lectura en las B...</td>\n",
       "      <td>/export/shared/corporativas/default/agenda-l.png</td>\n",
       "      <td>/la-ciudad/instalaciones-y-espacios/detalle-de...</td>\n",
       "      <td>Biblioteca Pública Municipal \"Manuel Altolagui...</td>\n",
       "    </tr>\n",
       "    <tr>\n",
       "      <th>...</th>\n",
       "      <td>...</td>\n",
       "      <td>...</td>\n",
       "      <td>...</td>\n",
       "      <td>...</td>\n",
       "      <td>...</td>\n",
       "      <td>...</td>\n",
       "      <td>...</td>\n",
       "      <td>...</td>\n",
       "    </tr>\n",
       "    <tr>\n",
       "      <th>58</th>\n",
       "      <td>/la-ciudad/agenda/detalle-actividad/index.html...</td>\n",
       "      <td>Taller de manualidades</td>\n",
       "      <td>[4/10/2024, 4/10/2025]</td>\n",
       "      <td>Taller de manualidades donde se practican y ap...</td>\n",
       "      <td>Evento:\\nACTIVIDADES AMFAEM 2024-25\\nOtros lug...</td>\n",
       "      <td>/export/shared/corporativas/default/agenda-l.png</td>\n",
       "      <td>NaN</td>\n",
       "      <td>NaN</td>\n",
       "    </tr>\n",
       "    <tr>\n",
       "      <th>59</th>\n",
       "      <td>/la-ciudad/agenda/detalle-actividad/index.html...</td>\n",
       "      <td>Terapia de grupo</td>\n",
       "      <td>[4/10/2024, 4/10/2025]</td>\n",
       "      <td>Sesiones de Terapia de grupo en relación a asp...</td>\n",
       "      <td>Evento:\\nACTIVIDADES AMFAEM 2024-25\\nOtros lug...</td>\n",
       "      <td>/export/shared/corporativas/default/agenda-l.png</td>\n",
       "      <td>NaN</td>\n",
       "      <td>NaN</td>\n",
       "    </tr>\n",
       "    <tr>\n",
       "      <th>60</th>\n",
       "      <td>/la-ciudad/agenda/detalle-actividad/index.html...</td>\n",
       "      <td>Simed, Salón Inmobiliario del Mediterráneo</td>\n",
       "      <td>[13/11/2025, 15/11/2025]</td>\n",
       "      <td>El evento líder del sector residencial especia...</td>\n",
       "      <td>Evento:\\nSimed ¿ Salón Inmobiliario del Medite...</td>\n",
       "      <td>https://www.malaga.eu/visorcontenido/AGDImageD...</td>\n",
       "      <td>/la-ciudad/instalaciones-y-espacios/detalle-de...</td>\n",
       "      <td>Palacio de Ferias y Congresos de Málaga</td>\n",
       "    </tr>\n",
       "    <tr>\n",
       "      <th>61</th>\n",
       "      <td>/la-ciudad/agenda/detalle-actividad/index.html...</td>\n",
       "      <td>Picasso. Imágenes cerámicas</td>\n",
       "      <td>[14/6/2024, 6/10/2025]</td>\n",
       "      <td>La cerámica de Picasso ha sido injustamente vi...</td>\n",
       "      <td>Evento:\\nMuseo Casa Natal Picasso\\nHorario:\\nD...</td>\n",
       "      <td>/export/shared/corporativas/default/agenda-l.png</td>\n",
       "      <td>/la-ciudad/instalaciones-y-espacios/detalle-de...</td>\n",
       "      <td>Museo Casa Natal Picasso</td>\n",
       "    </tr>\n",
       "    <tr>\n",
       "      <th>62</th>\n",
       "      <td>/la-ciudad/agenda/detalle-actividad/index.html...</td>\n",
       "      <td>Museo del Vidrio y Cristal de Málaga</td>\n",
       "      <td>[15/7/2010, 15/7/2100]</td>\n",
       "      <td>Exposicion permanenete en el Museo del Vidrio ...</td>\n",
       "      <td>Evento:\\nExposición de la colección de Gonzalo...</td>\n",
       "      <td>/export/shared/corporativas/default/agenda-l.png</td>\n",
       "      <td>NaN</td>\n",
       "      <td>NaN</td>\n",
       "    </tr>\n",
       "  </tbody>\n",
       "</table>\n",
       "<p>63 rows × 8 columns</p>\n",
       "</div>"
      ]
     },
     "execution_count": 14,
     "metadata": {},
     "output_type": "execute_result"
    }
   ],
   "execution_count": 14
  },
  {
   "cell_type": "code",
   "source": "df.to_csv('malaga_events_20250424.csv', index=False)",
   "metadata": {
    "collapsed": false,
    "ExecuteTime": {
     "end_time": "2025-04-22T21:33:43.989240Z",
     "start_time": "2025-04-22T21:33:43.976237Z"
    }
   },
   "outputs": [],
   "execution_count": 15
  }
 ],
 "metadata": {
  "kernelspec": {
   "display_name": "Python 3",
   "language": "python",
   "name": "python3"
  },
  "language_info": {
   "codemirror_mode": {
    "name": "ipython",
    "version": 2
   },
   "file_extension": ".py",
   "mimetype": "text/x-python",
   "name": "python",
   "nbconvert_exporter": "python",
   "pygments_lexer": "ipython2",
   "version": "2.7.6"
  }
 },
 "nbformat": 4,
 "nbformat_minor": 0
}
