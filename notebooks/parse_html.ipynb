{
 "cells": [
  {
   "cell_type": "markdown",
   "source": [
    "## Configuración"
   ],
   "metadata": {
    "collapsed": false
   }
  },
  {
   "cell_type": "code",
   "execution_count": 1,
   "outputs": [],
   "source": [
    "from bs4 import BeautifulSoup\n",
    "from requests import get\n",
    "\n",
    "from tqdm.notebook import tqdm\n",
    "\n",
    "\n",
    "year, month = 2023, 8\n",
    "url = f'https://www.marbella.es/agenda/eventospormes/{year}/{month}.html'"
   ],
   "metadata": {
    "collapsed": false,
    "ExecuteTime": {
     "start_time": "2023-04-23T20:30:27.813674Z",
     "end_time": "2023-04-23T20:30:28.060447Z"
    }
   }
  },
  {
   "cell_type": "markdown",
   "source": [
    "### Peticiones web"
   ],
   "metadata": {
    "collapsed": false
   }
  },
  {
   "cell_type": "code",
   "execution_count": 2,
   "outputs": [
    {
     "data": {
      "text/plain": "<Response [200]>"
     },
     "execution_count": 2,
     "metadata": {},
     "output_type": "execute_result"
    }
   ],
   "source": [
    "response = get(url)\n",
    "response"
   ],
   "metadata": {
    "collapsed": false,
    "ExecuteTime": {
     "start_time": "2023-04-23T20:30:35.028544Z",
     "end_time": "2023-04-23T20:31:15.249074Z"
    }
   }
  },
  {
   "cell_type": "code",
   "execution_count": 3,
   "outputs": [
    {
     "name": "stdout",
     "output_type": "stream",
     "text": [
      "len(large_text) = 54317\n",
      "<!DOCTYPE HTML>\n",
      "<html prefix=\"og: http://ogp.me/ns#\" lang=\"es-es\" dir=\"ltr\">\n",
      "    <head>\n",
      "        <meta charset=\"utf-8\">\n",
      "        <base href=\"https://www.marbella.es/agenda/crawler.listevents/-.html\" />\n",
      "\t<meta http-equiv=\"content-type\" content=\"text/html; charset=utf-8\" />\n",
      "\t<meta name=\"keywords\" conten\n",
      "\n",
      "...\n",
      "\n",
      "n-step-forward\"></i>\t\t</a>\n",
      "\t</li>\n",
      "\t<li>\n",
      "\t\t<a class=\"hasTooltip\"  title=\"Final\"  href=\"/agenda/crawler.listevents/-.html?start=6900\">\n",
      "\t\t\t<i class=\"icon-forward\"></i>\t\t</a>\n",
      "\t</li>\n",
      "\t\t</ul>\n",
      "\t\n",
      "\t\t\t<input type=\"hidden\" name=\"limitstart\"\n",
      "\t\t       value=\"0\"/>\n",
      "\t\n",
      "</div>\n",
      "\t\t</form>\n",
      "\t</div>\n",
      "\t\n",
      "    </body>\n",
      "</html>\n",
      "\n"
     ]
    }
   ],
   "source": [
    "text = response.text\n",
    "\n",
    "def preview_text(large_text: str) -> None:\n",
    "    print(f'{len(large_text) = }')\n",
    "    print(f'{large_text[:300]}\\n\\n...\\n\\n{large_text[-300:]}')\n",
    "\n",
    "preview_text(text)"
   ],
   "metadata": {
    "collapsed": false,
    "ExecuteTime": {
     "start_time": "2023-04-23T20:31:17.125099Z",
     "end_time": "2023-04-23T20:31:17.137098Z"
    }
   }
  },
  {
   "cell_type": "markdown",
   "source": [
    "Podemos notar que hay referencias al endpoint `https://www.marbella.es/agenda/crawler.listevents/-.html?start=6900`, pero en este ejercicio lo vamos a ignorar."
   ],
   "metadata": {
    "collapsed": false
   }
  },
  {
   "cell_type": "markdown",
   "source": [
    "Es posible que una request como la anterior no nos devuelva el mismo resultado que recibimos con una navegación normal. En ese caso, podemos intentar añadir headers que indiquen el navegador web que (teóricamente) estamos utilizando."
   ],
   "metadata": {
    "collapsed": false
   }
  },
  {
   "cell_type": "code",
   "execution_count": 4,
   "outputs": [
    {
     "data": {
      "text/plain": "<Response [200]>"
     },
     "execution_count": 4,
     "metadata": {},
     "output_type": "execute_result"
    }
   ],
   "source": [
    "headers = {'User-Agent': 'Mozilla/5.0 (Windows NT 10.0; Win64; x64; rv:109.0) Gecko/20100101 Firefox/109.0'}\n",
    "\n",
    "response = get(url, headers=headers)\n",
    "response"
   ],
   "metadata": {
    "collapsed": false,
    "ExecuteTime": {
     "start_time": "2023-04-23T20:31:23.430501Z",
     "end_time": "2023-04-23T20:31:25.464985Z"
    }
   }
  },
  {
   "cell_type": "code",
   "execution_count": 5,
   "outputs": [
    {
     "name": "stdout",
     "output_type": "stream",
     "text": [
      "len(large_text) = 436060\n",
      "<!DOCTYPE html>\n",
      "<html prefix=\"og: http://ogp.me/ns#\" lang=\"es-es\" dir=\"ltr\">\n",
      "    <head>\n",
      "        <meta name=\"viewport\" content=\"width=device-width, initial-scale=1\">\n",
      "        <link rel=\"icon\" href=\"/images/android-chrome-192x192.png\" sizes=\"any\">\n",
      "                <link rel=\"icon\" href=\"/images/pro/escu\n",
      "\n",
      "...\n",
      "\n",
      "animation-slide-bottom\"><a href=\"#\" title=\"Volver al principio\" uk-totop uk-scroll aria-label=\"Back to top\"></a></div>\n",
      "\n",
      "\n",
      "\n",
      "\n",
      "</div></div>\n",
      "                                </div>\n",
      "                \n",
      "            \n",
      "        \n",
      "        </div>\n",
      "    \t\n",
      "\t\n",
      "</div>\n",
      "\n",
      "        </div>\n",
      "\n",
      "        \n",
      "        \n",
      "\n",
      "    </body>\n",
      "</html>\n",
      "\n"
     ]
    }
   ],
   "source": [
    "text = response.text\n",
    "\n",
    "preview_text(text)"
   ],
   "metadata": {
    "collapsed": false,
    "ExecuteTime": {
     "start_time": "2023-04-23T20:31:38.673944Z",
     "end_time": "2023-04-23T20:31:38.681942Z"
    }
   }
  },
  {
   "cell_type": "markdown",
   "source": [
    "Para procesar el html recibido utilizamos BeautifulSoup"
   ],
   "metadata": {
    "collapsed": false
   }
  },
  {
   "cell_type": "code",
   "execution_count": 6,
   "metadata": {
    "collapsed": true,
    "ExecuteTime": {
     "start_time": "2023-04-23T20:31:46.909612Z",
     "end_time": "2023-04-23T20:31:46.969068Z"
    }
   },
   "outputs": [],
   "source": [
    "soup = BeautifulSoup(response.text)\n",
    "# soup"
   ]
  },
  {
   "cell_type": "markdown",
   "source": [
    "Vamos a obtener todos los links que aparecen en la página"
   ],
   "metadata": {
    "collapsed": false
   }
  },
  {
   "cell_type": "code",
   "execution_count": 7,
   "outputs": [
    {
     "data": {
      "text/plain": "449"
     },
     "execution_count": 7,
     "metadata": {},
     "output_type": "execute_result"
    }
   ],
   "source": [
    "all_hrefs = [a['href'] for a in soup.find_all(href=True)]\n",
    "len(all_hrefs)"
   ],
   "metadata": {
    "collapsed": false,
    "ExecuteTime": {
     "start_time": "2023-04-23T20:31:48.463465Z",
     "end_time": "2023-04-23T20:31:48.472464Z"
    }
   }
  },
  {
   "cell_type": "markdown",
   "source": [
    "Y filtramos por links que apunten a eventos"
   ],
   "metadata": {
    "collapsed": false
   }
  },
  {
   "cell_type": "code",
   "execution_count": 8,
   "outputs": [
    {
     "data": {
      "text/plain": "115"
     },
     "execution_count": 8,
     "metadata": {},
     "output_type": "execute_result"
    }
   ],
   "source": [
    "event_links = list({e for e in all_hrefs if 'eventodetalle' in e})\n",
    "len(event_links)"
   ],
   "metadata": {
    "collapsed": false,
    "ExecuteTime": {
     "start_time": "2023-04-23T20:31:51.206421Z",
     "end_time": "2023-04-23T20:31:51.225432Z"
    }
   }
  },
  {
   "cell_type": "code",
   "execution_count": 9,
   "outputs": [
    {
     "data": {
      "text/plain": "['/agenda/eventodetalle/34822/destino-argentina-borges-y-chale-mujeres-artistas-en-la-vanguardia.html',\n '/agenda/eventodetalle/47810/abstraccion-americana-carlos-merida.html',\n '/agenda/eventodetalle/51107/basilica-paleocristiana-de-vega-del-mar.html',\n '/agenda/eventodetalle/33524/surrealismos-de-giorgio-de-chirico-a-francis-bacon.html',\n '/agenda/eventodetalle/51959/villa-romana-de-rio-verde.html']"
     },
     "execution_count": 9,
     "metadata": {},
     "output_type": "execute_result"
    }
   ],
   "source": [
    "event_links[-5:]"
   ],
   "metadata": {
    "collapsed": false,
    "ExecuteTime": {
     "start_time": "2023-04-23T20:31:53.543510Z",
     "end_time": "2023-04-23T20:31:53.565385Z"
    }
   }
  },
  {
   "cell_type": "markdown",
   "source": [
    "Exploramos lo que aparece en una página de evento"
   ],
   "metadata": {
    "collapsed": false
   }
  },
  {
   "cell_type": "code",
   "execution_count": 10,
   "outputs": [],
   "source": [
    "base_url = f'https://www.marbella.es'\n",
    "\n",
    "event = event_links[0]\n",
    "\n",
    "html_e = get(f'{base_url}{event}', headers=headers)\n",
    "\n",
    "soup = BeautifulSoup(html_e.text)\n",
    "# soup"
   ],
   "metadata": {
    "collapsed": false,
    "ExecuteTime": {
     "start_time": "2023-04-23T20:32:10.620453Z",
     "end_time": "2023-04-23T20:32:11.121618Z"
    }
   }
  },
  {
   "cell_type": "markdown",
   "source": [
    "Una función para obtener la información de un evento a partir de su link:"
   ],
   "metadata": {
    "collapsed": false
   }
  },
  {
   "cell_type": "code",
   "execution_count": 20,
   "outputs": [],
   "source": [
    "from time import sleep\n",
    "\n",
    "\n",
    "def get_event_info(event_link: str) -> dict:\n",
    "\n",
    "    html = get(f'{base_url}{event_link}', headers=headers)\n",
    "    text = html.text\n",
    "    soup = BeautifulSoup(text)\n",
    "    base = {'event_link': event_link}\n",
    "    try:\n",
    "        div_info = soup.find('div', string='Repetición Anterior').parent.parent.parent\n",
    "    except:\n",
    "        return base\n",
    "    info = {\n",
    "        'title': div_info.h1.text,\n",
    "        'category': div_info.h2.text,\n",
    "        'datetime': div_info.div.div.text.replace('\\xa0', '').replace('\\n', ''),\n",
    "        'views': int(div_info.find(attrs={'class': 'hitslabel'}).parent.text.split(':')[-1].strip())\n",
    "    }\n",
    "    gmaps_dict = text.split('var gmapConf = {')[-1].split('}')[0]\n",
    "    try:\n",
    "        place = {\n",
    "            'longitude': float(gmaps_dict.split('longitude:\\t\\'')[-1].split(\"'\")[0]),\n",
    "            'latitude': float(gmaps_dict.split('latitude:\\t\\'')[-1].split(\"'\")[0]),\n",
    "            'place_name': text.split('myEventDetailMapload(')[-1].split('.html?tmpl=component')[0].split(' \\\"/agenda/')[-1]\n",
    "        }\n",
    "    except:\n",
    "        place = {}\n",
    "    return {**base, **info, **place}\n"
   ],
   "metadata": {
    "collapsed": false,
    "ExecuteTime": {
     "start_time": "2023-04-11T20:21:32.383962Z",
     "end_time": "2023-04-11T20:21:32.398347Z"
    }
   }
  },
  {
   "cell_type": "markdown",
   "source": [
    "Recorremos las urls de los eventos que hemos obtenido obteniendo su información"
   ],
   "metadata": {
    "collapsed": false
   }
  },
  {
   "cell_type": "code",
   "execution_count": 9,
   "outputs": [
    {
     "data": {
      "text/plain": "  0%|          | 0/69 [00:00<?, ?it/s]",
      "application/vnd.jupyter.widget-view+json": {
       "version_major": 2,
       "version_minor": 0,
       "model_id": "5326b8bc6d284a50a1f045c571d20625"
      }
     },
     "metadata": {},
     "output_type": "display_data"
    },
    {
     "data": {
      "text/plain": "69"
     },
     "execution_count": 9,
     "metadata": {},
     "output_type": "execute_result"
    }
   ],
   "source": [
    "events_info = []\n",
    "for event_link in tqdm(event_links):\n",
    "    events_info.append(get_event_info(event_link))\n",
    "    sleep(.5)\n",
    "\n",
    "len(events_info)"
   ],
   "metadata": {
    "collapsed": false,
    "ExecuteTime": {
     "start_time": "2023-04-11T20:05:33.597291Z",
     "end_time": "2023-04-11T20:06:51.566119Z"
    }
   }
  },
  {
   "cell_type": "markdown",
   "source": [
    "Podemos poner la respuesta como una tabla"
   ],
   "metadata": {
    "collapsed": false
   }
  },
  {
   "cell_type": "code",
   "execution_count": 10,
   "outputs": [
    {
     "data": {
      "text/plain": "                                           event_link  \\\n0   /agenda/eventodetalle/34823/destino-argentina-...   \n1   /agenda/eventodetalle/33518/surrealismos-de-gi...   \n2   /agenda/eventodetalle/34840/destino-argentina-...   \n3   /agenda/eventodetalle/47813/abstraccion-americ...   \n4   /agenda/eventodetalle/34835/destino-argentina-...   \n..                                                ...   \n64  /agenda/eventodetalle/34844/destino-argentina-...   \n65  /agenda/eventodetalle/47806/abstraccion-americ...   \n66  /agenda/eventodetalle/34837/destino-argentina-...   \n67  /agenda/eventodetalle/34828/destino-argentina-...   \n68  /agenda/eventodetalle/47807/abstraccion-americ...   \n\n                                                title  \\\n0   Destino Argentina.  Borges y Chale,  mujeres a...   \n1   Surrealismos. De Giorgio De Chirico a Francis ...   \n2   Destino Argentina.  Borges y Chale,  mujeres a...   \n3                Abstracción Americana, Carlos Mérida   \n4   Destino Argentina.  Borges y Chale,  mujeres a...   \n..                                                ...   \n64  Destino Argentina.  Borges y Chale,  mujeres a...   \n65               Abstracción Americana, Carlos Mérida   \n66  Destino Argentina.  Borges y Chale,  mujeres a...   \n67  Destino Argentina.  Borges y Chale,  mujeres a...   \n68               Abstracción Americana, Carlos Mérida   \n\n                                             category  \\\n0   Exposiciones, Cultura y Enseñanza, Residentes ...   \n1   Exposiciones, Cultura y Enseñanza, Residentes ...   \n2   Exposiciones, Cultura y Enseñanza, Residentes ...   \n3                   Exposiciones, Cultura y Enseñanza   \n4   Exposiciones, Cultura y Enseñanza, Residentes ...   \n..                                                ...   \n64  Exposiciones, Cultura y Enseñanza, Residentes ...   \n65                  Exposiciones, Cultura y Enseñanza   \n66  Exposiciones, Cultura y Enseñanza, Residentes ...   \n67  Exposiciones, Cultura y Enseñanza, Residentes ...   \n68                  Exposiciones, Cultura y Enseñanza   \n\n                                 datetime   views  longitude   latitude  \\\n0   Miércoles, 02 Agosto 2023,10:00-15:00  202765  -4.940957  36.498058   \n1      Martes, 22 Agosto 2023,10:00-15:00  272237  -4.940957  36.498058   \n2     Viernes, 25 Agosto 2023,10:00-15:00  202766  -4.940957  36.498058   \n3   Miércoles, 16 Agosto 2023,10:00-15:00     983  -4.940957  36.498058   \n4     Viernes, 18 Agosto 2023,10:00-15:00  202767  -4.940957  36.498058   \n..                                    ...     ...        ...        ...   \n64     Jueves, 31 Agosto 2023,10:00-15:00  202785  -4.940957  36.498058   \n65     Sábado, 05 Agosto 2023,10:00-15:00    1004  -4.940957  36.498058   \n66     Martes, 22 Agosto 2023,10:00-15:00  202786  -4.940957  36.498058   \n67  Miércoles, 09 Agosto 2023,10:00-15:00  202787  -4.940957  36.498058   \n68     Martes, 08 Agosto 2023,10:00-15:00    1005  -4.940957  36.498058   \n\n                         place_name  \n0   lugares/detail/57/0/museo-ralli  \n1   lugares/detail/57/0/museo-ralli  \n2   lugares/detail/57/0/museo-ralli  \n3   lugares/detail/57/0/museo-ralli  \n4   lugares/detail/57/0/museo-ralli  \n..                              ...  \n64  lugares/detail/57/0/museo-ralli  \n65  lugares/detail/57/0/museo-ralli  \n66  lugares/detail/57/0/museo-ralli  \n67  lugares/detail/57/0/museo-ralli  \n68  lugares/detail/57/0/museo-ralli  \n\n[69 rows x 8 columns]",
      "text/html": "<div>\n<style scoped>\n    .dataframe tbody tr th:only-of-type {\n        vertical-align: middle;\n    }\n\n    .dataframe tbody tr th {\n        vertical-align: top;\n    }\n\n    .dataframe thead th {\n        text-align: right;\n    }\n</style>\n<table border=\"1\" class=\"dataframe\">\n  <thead>\n    <tr style=\"text-align: right;\">\n      <th></th>\n      <th>event_link</th>\n      <th>title</th>\n      <th>category</th>\n      <th>datetime</th>\n      <th>views</th>\n      <th>longitude</th>\n      <th>latitude</th>\n      <th>place_name</th>\n    </tr>\n  </thead>\n  <tbody>\n    <tr>\n      <th>0</th>\n      <td>/agenda/eventodetalle/34823/destino-argentina-...</td>\n      <td>Destino Argentina.  Borges y Chale,  mujeres a...</td>\n      <td>Exposiciones, Cultura y Enseñanza, Residentes ...</td>\n      <td>Miércoles, 02 Agosto 2023,10:00-15:00</td>\n      <td>202765</td>\n      <td>-4.940957</td>\n      <td>36.498058</td>\n      <td>lugares/detail/57/0/museo-ralli</td>\n    </tr>\n    <tr>\n      <th>1</th>\n      <td>/agenda/eventodetalle/33518/surrealismos-de-gi...</td>\n      <td>Surrealismos. De Giorgio De Chirico a Francis ...</td>\n      <td>Exposiciones, Cultura y Enseñanza, Residentes ...</td>\n      <td>Martes, 22 Agosto 2023,10:00-15:00</td>\n      <td>272237</td>\n      <td>-4.940957</td>\n      <td>36.498058</td>\n      <td>lugares/detail/57/0/museo-ralli</td>\n    </tr>\n    <tr>\n      <th>2</th>\n      <td>/agenda/eventodetalle/34840/destino-argentina-...</td>\n      <td>Destino Argentina.  Borges y Chale,  mujeres a...</td>\n      <td>Exposiciones, Cultura y Enseñanza, Residentes ...</td>\n      <td>Viernes, 25 Agosto 2023,10:00-15:00</td>\n      <td>202766</td>\n      <td>-4.940957</td>\n      <td>36.498058</td>\n      <td>lugares/detail/57/0/museo-ralli</td>\n    </tr>\n    <tr>\n      <th>3</th>\n      <td>/agenda/eventodetalle/47813/abstraccion-americ...</td>\n      <td>Abstracción Americana, Carlos Mérida</td>\n      <td>Exposiciones, Cultura y Enseñanza</td>\n      <td>Miércoles, 16 Agosto 2023,10:00-15:00</td>\n      <td>983</td>\n      <td>-4.940957</td>\n      <td>36.498058</td>\n      <td>lugares/detail/57/0/museo-ralli</td>\n    </tr>\n    <tr>\n      <th>4</th>\n      <td>/agenda/eventodetalle/34835/destino-argentina-...</td>\n      <td>Destino Argentina.  Borges y Chale,  mujeres a...</td>\n      <td>Exposiciones, Cultura y Enseñanza, Residentes ...</td>\n      <td>Viernes, 18 Agosto 2023,10:00-15:00</td>\n      <td>202767</td>\n      <td>-4.940957</td>\n      <td>36.498058</td>\n      <td>lugares/detail/57/0/museo-ralli</td>\n    </tr>\n    <tr>\n      <th>...</th>\n      <td>...</td>\n      <td>...</td>\n      <td>...</td>\n      <td>...</td>\n      <td>...</td>\n      <td>...</td>\n      <td>...</td>\n      <td>...</td>\n    </tr>\n    <tr>\n      <th>64</th>\n      <td>/agenda/eventodetalle/34844/destino-argentina-...</td>\n      <td>Destino Argentina.  Borges y Chale,  mujeres a...</td>\n      <td>Exposiciones, Cultura y Enseñanza, Residentes ...</td>\n      <td>Jueves, 31 Agosto 2023,10:00-15:00</td>\n      <td>202785</td>\n      <td>-4.940957</td>\n      <td>36.498058</td>\n      <td>lugares/detail/57/0/museo-ralli</td>\n    </tr>\n    <tr>\n      <th>65</th>\n      <td>/agenda/eventodetalle/47806/abstraccion-americ...</td>\n      <td>Abstracción Americana, Carlos Mérida</td>\n      <td>Exposiciones, Cultura y Enseñanza</td>\n      <td>Sábado, 05 Agosto 2023,10:00-15:00</td>\n      <td>1004</td>\n      <td>-4.940957</td>\n      <td>36.498058</td>\n      <td>lugares/detail/57/0/museo-ralli</td>\n    </tr>\n    <tr>\n      <th>66</th>\n      <td>/agenda/eventodetalle/34837/destino-argentina-...</td>\n      <td>Destino Argentina.  Borges y Chale,  mujeres a...</td>\n      <td>Exposiciones, Cultura y Enseñanza, Residentes ...</td>\n      <td>Martes, 22 Agosto 2023,10:00-15:00</td>\n      <td>202786</td>\n      <td>-4.940957</td>\n      <td>36.498058</td>\n      <td>lugares/detail/57/0/museo-ralli</td>\n    </tr>\n    <tr>\n      <th>67</th>\n      <td>/agenda/eventodetalle/34828/destino-argentina-...</td>\n      <td>Destino Argentina.  Borges y Chale,  mujeres a...</td>\n      <td>Exposiciones, Cultura y Enseñanza, Residentes ...</td>\n      <td>Miércoles, 09 Agosto 2023,10:00-15:00</td>\n      <td>202787</td>\n      <td>-4.940957</td>\n      <td>36.498058</td>\n      <td>lugares/detail/57/0/museo-ralli</td>\n    </tr>\n    <tr>\n      <th>68</th>\n      <td>/agenda/eventodetalle/47807/abstraccion-americ...</td>\n      <td>Abstracción Americana, Carlos Mérida</td>\n      <td>Exposiciones, Cultura y Enseñanza</td>\n      <td>Martes, 08 Agosto 2023,10:00-15:00</td>\n      <td>1005</td>\n      <td>-4.940957</td>\n      <td>36.498058</td>\n      <td>lugares/detail/57/0/museo-ralli</td>\n    </tr>\n  </tbody>\n</table>\n<p>69 rows × 8 columns</p>\n</div>"
     },
     "execution_count": 10,
     "metadata": {},
     "output_type": "execute_result"
    }
   ],
   "source": [
    "import pandas as pd\n",
    "\n",
    "\n",
    "df = pd.DataFrame(events_info)\n",
    "df"
   ],
   "metadata": {
    "collapsed": false,
    "ExecuteTime": {
     "start_time": "2023-04-11T20:08:07.141618Z",
     "end_time": "2023-04-11T20:08:08.601179Z"
    }
   }
  },
  {
   "cell_type": "markdown",
   "source": [
    "Función para descargar la información de todos los eventos de un mes"
   ],
   "metadata": {
    "collapsed": false
   }
  },
  {
   "cell_type": "code",
   "execution_count": 11,
   "outputs": [
    {
     "data": {
      "text/plain": "  0%|          | 0/73 [00:00<?, ?it/s]",
      "application/vnd.jupyter.widget-view+json": {
       "version_major": 2,
       "version_minor": 0,
       "model_id": "3b84918414854d28b892dd9a235fce39"
      }
     },
     "metadata": {},
     "output_type": "display_data"
    },
    {
     "data": {
      "text/plain": "                                           event_link  \\\n0   /agenda/eventodetalle/34797/destino-argentina-...   \n1   /agenda/eventodetalle/47763/abstraccion-americ...   \n2   /agenda/eventodetalle/34779/destino-argentina-...   \n3   /agenda/eventodetalle/37439/ciencia-y-arte-con...   \n4   /agenda/eventodetalle/33476/surrealismos-de-gi...   \n..                                                ...   \n68  /agenda/eventodetalle/33461/surrealismos-de-gi...   \n69  /agenda/eventodetalle/47770/abstraccion-americ...   \n70  /agenda/eventodetalle/33474/surrealismos-de-gi...   \n71  /agenda/eventodetalle/47764/abstraccion-americ...   \n72  /agenda/eventodetalle/33464/surrealismos-de-gi...   \n\n                                                title  \\\n0   Destino Argentina.  Borges y Chale,  mujeres a...   \n1                Abstracción Americana, Carlos Mérida   \n2   Destino Argentina.  Borges y Chale,  mujeres a...   \n3   Ciencia y arte: conexiones entre dos modos de ...   \n4   Surrealismos. De Giorgio De Chirico a Francis ...   \n..                                                ...   \n68  Surrealismos. De Giorgio De Chirico a Francis ...   \n69               Abstracción Americana, Carlos Mérida   \n70  Surrealismos. De Giorgio De Chirico a Francis ...   \n71               Abstracción Americana, Carlos Mérida   \n72  Surrealismos. De Giorgio De Chirico a Francis ...   \n\n                                             category  \\\n0   Exposiciones, Cultura y Enseñanza, Residentes ...   \n1                   Exposiciones, Cultura y Enseñanza   \n2   Exposiciones, Cultura y Enseñanza, Residentes ...   \n3   Cursos y Talleres, Aula de Mayores, Cultura y ...   \n4   Exposiciones, Cultura y Enseñanza, Residentes ...   \n..                                                ...   \n68  Exposiciones, Cultura y Enseñanza, Residentes ...   \n69                  Exposiciones, Cultura y Enseñanza   \n70  Exposiciones, Cultura y Enseñanza, Residentes ...   \n71                  Exposiciones, Cultura y Enseñanza   \n72  Exposiciones, Cultura y Enseñanza, Residentes ...   \n\n                                datetime   views  longitude   latitude  \\\n0      Martes, 27 Junio 2023,10:00-15:00  202788  -4.940957  36.498058   \n1   Miércoles, 07 Junio 2023,10:00-15:00    1007  -4.940957  36.498058   \n2      Jueves, 01 Junio 2023,10:00-15:00  202789  -4.940957  36.498058   \n3      Martes, 06 Junio 2023,17:00-18:30     152  -4.884094  36.509178   \n4     Viernes, 23 Junio 2023,10:00-15:00  272262  -4.940957  36.498058   \n..                                   ...     ...        ...        ...   \n68    Viernes, 02 Junio 2023,10:00-15:00  272281  -4.940957  36.498058   \n69    Viernes, 16 Junio 2023,10:00-15:00    1027  -4.940957  36.498058   \n70  Miércoles, 21 Junio 2023,10:00-15:00  272282  -4.940957  36.498058   \n71     Jueves, 08 Junio 2023,10:00-15:00    1028  -4.940957  36.498058   \n72  Miércoles, 07 Junio 2023,10:00-15:00  272283  -4.940957  36.498058   \n\n                                           place_name  \n0                     lugares/detail/57/0/museo-ralli  \n1                     lugares/detail/57/0/museo-ralli  \n2                     lugares/detail/57/0/museo-ralli  \n3   lugares/detail/17/0/centro-cultural-hospital-r...  \n4                     lugares/detail/57/0/museo-ralli  \n..                                                ...  \n68                    lugares/detail/57/0/museo-ralli  \n69                    lugares/detail/57/0/museo-ralli  \n70                    lugares/detail/57/0/museo-ralli  \n71                    lugares/detail/57/0/museo-ralli  \n72                    lugares/detail/57/0/museo-ralli  \n\n[73 rows x 8 columns]",
      "text/html": "<div>\n<style scoped>\n    .dataframe tbody tr th:only-of-type {\n        vertical-align: middle;\n    }\n\n    .dataframe tbody tr th {\n        vertical-align: top;\n    }\n\n    .dataframe thead th {\n        text-align: right;\n    }\n</style>\n<table border=\"1\" class=\"dataframe\">\n  <thead>\n    <tr style=\"text-align: right;\">\n      <th></th>\n      <th>event_link</th>\n      <th>title</th>\n      <th>category</th>\n      <th>datetime</th>\n      <th>views</th>\n      <th>longitude</th>\n      <th>latitude</th>\n      <th>place_name</th>\n    </tr>\n  </thead>\n  <tbody>\n    <tr>\n      <th>0</th>\n      <td>/agenda/eventodetalle/34797/destino-argentina-...</td>\n      <td>Destino Argentina.  Borges y Chale,  mujeres a...</td>\n      <td>Exposiciones, Cultura y Enseñanza, Residentes ...</td>\n      <td>Martes, 27 Junio 2023,10:00-15:00</td>\n      <td>202788</td>\n      <td>-4.940957</td>\n      <td>36.498058</td>\n      <td>lugares/detail/57/0/museo-ralli</td>\n    </tr>\n    <tr>\n      <th>1</th>\n      <td>/agenda/eventodetalle/47763/abstraccion-americ...</td>\n      <td>Abstracción Americana, Carlos Mérida</td>\n      <td>Exposiciones, Cultura y Enseñanza</td>\n      <td>Miércoles, 07 Junio 2023,10:00-15:00</td>\n      <td>1007</td>\n      <td>-4.940957</td>\n      <td>36.498058</td>\n      <td>lugares/detail/57/0/museo-ralli</td>\n    </tr>\n    <tr>\n      <th>2</th>\n      <td>/agenda/eventodetalle/34779/destino-argentina-...</td>\n      <td>Destino Argentina.  Borges y Chale,  mujeres a...</td>\n      <td>Exposiciones, Cultura y Enseñanza, Residentes ...</td>\n      <td>Jueves, 01 Junio 2023,10:00-15:00</td>\n      <td>202789</td>\n      <td>-4.940957</td>\n      <td>36.498058</td>\n      <td>lugares/detail/57/0/museo-ralli</td>\n    </tr>\n    <tr>\n      <th>3</th>\n      <td>/agenda/eventodetalle/37439/ciencia-y-arte-con...</td>\n      <td>Ciencia y arte: conexiones entre dos modos de ...</td>\n      <td>Cursos y Talleres, Aula de Mayores, Cultura y ...</td>\n      <td>Martes, 06 Junio 2023,17:00-18:30</td>\n      <td>152</td>\n      <td>-4.884094</td>\n      <td>36.509178</td>\n      <td>lugares/detail/17/0/centro-cultural-hospital-r...</td>\n    </tr>\n    <tr>\n      <th>4</th>\n      <td>/agenda/eventodetalle/33476/surrealismos-de-gi...</td>\n      <td>Surrealismos. De Giorgio De Chirico a Francis ...</td>\n      <td>Exposiciones, Cultura y Enseñanza, Residentes ...</td>\n      <td>Viernes, 23 Junio 2023,10:00-15:00</td>\n      <td>272262</td>\n      <td>-4.940957</td>\n      <td>36.498058</td>\n      <td>lugares/detail/57/0/museo-ralli</td>\n    </tr>\n    <tr>\n      <th>...</th>\n      <td>...</td>\n      <td>...</td>\n      <td>...</td>\n      <td>...</td>\n      <td>...</td>\n      <td>...</td>\n      <td>...</td>\n      <td>...</td>\n    </tr>\n    <tr>\n      <th>68</th>\n      <td>/agenda/eventodetalle/33461/surrealismos-de-gi...</td>\n      <td>Surrealismos. De Giorgio De Chirico a Francis ...</td>\n      <td>Exposiciones, Cultura y Enseñanza, Residentes ...</td>\n      <td>Viernes, 02 Junio 2023,10:00-15:00</td>\n      <td>272281</td>\n      <td>-4.940957</td>\n      <td>36.498058</td>\n      <td>lugares/detail/57/0/museo-ralli</td>\n    </tr>\n    <tr>\n      <th>69</th>\n      <td>/agenda/eventodetalle/47770/abstraccion-americ...</td>\n      <td>Abstracción Americana, Carlos Mérida</td>\n      <td>Exposiciones, Cultura y Enseñanza</td>\n      <td>Viernes, 16 Junio 2023,10:00-15:00</td>\n      <td>1027</td>\n      <td>-4.940957</td>\n      <td>36.498058</td>\n      <td>lugares/detail/57/0/museo-ralli</td>\n    </tr>\n    <tr>\n      <th>70</th>\n      <td>/agenda/eventodetalle/33474/surrealismos-de-gi...</td>\n      <td>Surrealismos. De Giorgio De Chirico a Francis ...</td>\n      <td>Exposiciones, Cultura y Enseñanza, Residentes ...</td>\n      <td>Miércoles, 21 Junio 2023,10:00-15:00</td>\n      <td>272282</td>\n      <td>-4.940957</td>\n      <td>36.498058</td>\n      <td>lugares/detail/57/0/museo-ralli</td>\n    </tr>\n    <tr>\n      <th>71</th>\n      <td>/agenda/eventodetalle/47764/abstraccion-americ...</td>\n      <td>Abstracción Americana, Carlos Mérida</td>\n      <td>Exposiciones, Cultura y Enseñanza</td>\n      <td>Jueves, 08 Junio 2023,10:00-15:00</td>\n      <td>1028</td>\n      <td>-4.940957</td>\n      <td>36.498058</td>\n      <td>lugares/detail/57/0/museo-ralli</td>\n    </tr>\n    <tr>\n      <th>72</th>\n      <td>/agenda/eventodetalle/33464/surrealismos-de-gi...</td>\n      <td>Surrealismos. De Giorgio De Chirico a Francis ...</td>\n      <td>Exposiciones, Cultura y Enseñanza, Residentes ...</td>\n      <td>Miércoles, 07 Junio 2023,10:00-15:00</td>\n      <td>272283</td>\n      <td>-4.940957</td>\n      <td>36.498058</td>\n      <td>lugares/detail/57/0/museo-ralli</td>\n    </tr>\n  </tbody>\n</table>\n<p>73 rows × 8 columns</p>\n</div>"
     },
     "execution_count": 11,
     "metadata": {},
     "output_type": "execute_result"
    }
   ],
   "source": [
    "def get_all_month_events(year: int, month: int):\n",
    "\n",
    "    month = str(month).rjust(2, '0')\n",
    "    url = f'https://www.marbella.es/agenda/eventospormes/{year}/{month}.html'\n",
    "    html = get(url, headers=headers)\n",
    "    soup = BeautifulSoup(html.text)\n",
    "    all_hrefs = [a['href'] for a in soup.find_all(href=True)]\n",
    "    event_links = list({e for e in all_hrefs if 'eventodetalle' in e})\n",
    "\n",
    "    events_info = []\n",
    "    for event_link in tqdm(event_links):\n",
    "        events_info.append(get_event_info(event_link))\n",
    "        sleep(.5)\n",
    "    df = pd.DataFrame(events_info)\n",
    "    return df\n",
    "\n",
    "df = get_all_month_events(2023, 6)\n",
    "df"
   ],
   "metadata": {
    "collapsed": false,
    "ExecuteTime": {
     "start_time": "2023-04-11T20:10:03.201498Z",
     "end_time": "2023-04-11T20:11:31.027883Z"
    }
   }
  },
  {
   "cell_type": "markdown",
   "source": [
    "Descarga de todos los eventos de 2023 y 2024"
   ],
   "metadata": {
    "collapsed": false
   }
  },
  {
   "cell_type": "markdown",
   "source": [],
   "metadata": {
    "collapsed": false
   }
  },
  {
   "cell_type": "code",
   "execution_count": 21,
   "outputs": [
    {
     "data": {
      "text/plain": "0it [00:00, ?it/s]",
      "application/vnd.jupyter.widget-view+json": {
       "version_major": 2,
       "version_minor": 0,
       "model_id": "d543ef62e8ad4ed093d14d6975c7b5af"
      }
     },
     "metadata": {},
     "output_type": "display_data"
    },
    {
     "data": {
      "text/plain": "  0%|          | 0/186 [00:00<?, ?it/s]",
      "application/vnd.jupyter.widget-view+json": {
       "version_major": 2,
       "version_minor": 0,
       "model_id": "cdaee6108fbf4c6db407412840d72e29"
      }
     },
     "metadata": {},
     "output_type": "display_data"
    },
    {
     "data": {
      "text/plain": "  0%|          | 0/230 [00:00<?, ?it/s]",
      "application/vnd.jupyter.widget-view+json": {
       "version_major": 2,
       "version_minor": 0,
       "model_id": "07ebf90e6614416f95b2180c1b8c770a"
      }
     },
     "metadata": {},
     "output_type": "display_data"
    },
    {
     "data": {
      "text/plain": "  0%|          | 0/266 [00:00<?, ?it/s]",
      "application/vnd.jupyter.widget-view+json": {
       "version_major": 2,
       "version_minor": 0,
       "model_id": "36ec59ce189e4eb29743804efd35357b"
      }
     },
     "metadata": {},
     "output_type": "display_data"
    },
    {
     "data": {
      "text/plain": "  0%|          | 0/270 [00:00<?, ?it/s]",
      "application/vnd.jupyter.widget-view+json": {
       "version_major": 2,
       "version_minor": 0,
       "model_id": "2845f38a7b16483497769d4db41be43e"
      }
     },
     "metadata": {},
     "output_type": "display_data"
    },
    {
     "data": {
      "text/plain": "  0%|          | 0/85 [00:00<?, ?it/s]",
      "application/vnd.jupyter.widget-view+json": {
       "version_major": 2,
       "version_minor": 0,
       "model_id": "e51e8664cf084466b71ef04fa79ca3bc"
      }
     },
     "metadata": {},
     "output_type": "display_data"
    },
    {
     "data": {
      "text/plain": "  0%|          | 0/73 [00:00<?, ?it/s]",
      "application/vnd.jupyter.widget-view+json": {
       "version_major": 2,
       "version_minor": 0,
       "model_id": "af86e8a582854588bf92580bf7e57584"
      }
     },
     "metadata": {},
     "output_type": "display_data"
    },
    {
     "data": {
      "text/plain": "  0%|          | 0/63 [00:00<?, ?it/s]",
      "application/vnd.jupyter.widget-view+json": {
       "version_major": 2,
       "version_minor": 0,
       "model_id": "2129bed2cd914958b090fede5d5a2d1f"
      }
     },
     "metadata": {},
     "output_type": "display_data"
    },
    {
     "data": {
      "text/plain": "  0%|          | 0/69 [00:00<?, ?it/s]",
      "application/vnd.jupyter.widget-view+json": {
       "version_major": 2,
       "version_minor": 0,
       "model_id": "1c335fb119ad4b5e91191d7dad0b9b51"
      }
     },
     "metadata": {},
     "output_type": "display_data"
    },
    {
     "data": {
      "text/plain": "  0%|          | 0/66 [00:00<?, ?it/s]",
      "application/vnd.jupyter.widget-view+json": {
       "version_major": 2,
       "version_minor": 0,
       "model_id": "5b7fbbb99ec04da393014537bf09841e"
      }
     },
     "metadata": {},
     "output_type": "display_data"
    },
    {
     "data": {
      "text/plain": "  0%|          | 0/63 [00:00<?, ?it/s]",
      "application/vnd.jupyter.widget-view+json": {
       "version_major": 2,
       "version_minor": 0,
       "model_id": "7bb546fed9db4d9d9deabc4e7f05912c"
      }
     },
     "metadata": {},
     "output_type": "display_data"
    },
    {
     "data": {
      "text/plain": "  0%|          | 0/66 [00:00<?, ?it/s]",
      "application/vnd.jupyter.widget-view+json": {
       "version_major": 2,
       "version_minor": 0,
       "model_id": "76d8f19bc4df4ecd99a1e2b0afc396da"
      }
     },
     "metadata": {},
     "output_type": "display_data"
    },
    {
     "data": {
      "text/plain": "  0%|          | 0/66 [00:00<?, ?it/s]",
      "application/vnd.jupyter.widget-view+json": {
       "version_major": 2,
       "version_minor": 0,
       "model_id": "f1c0630c64554bf78fe95bbc700fee53"
      }
     },
     "metadata": {},
     "output_type": "display_data"
    },
    {
     "data": {
      "text/plain": "  0%|          | 0/66 [00:00<?, ?it/s]",
      "application/vnd.jupyter.widget-view+json": {
       "version_major": 2,
       "version_minor": 0,
       "model_id": "a235c2ea303441ab897c46cf9a71655d"
      }
     },
     "metadata": {},
     "output_type": "display_data"
    },
    {
     "data": {
      "text/plain": "  0%|          | 0/63 [00:00<?, ?it/s]",
      "application/vnd.jupyter.widget-view+json": {
       "version_major": 2,
       "version_minor": 0,
       "model_id": "b28e56a43cd240e8b64127b9b1d39e70"
      }
     },
     "metadata": {},
     "output_type": "display_data"
    },
    {
     "data": {
      "text/plain": "  0%|          | 0/51 [00:00<?, ?it/s]",
      "application/vnd.jupyter.widget-view+json": {
       "version_major": 2,
       "version_minor": 0,
       "model_id": "66d1d83b856143f8aaf442ec09c26ba5"
      }
     },
     "metadata": {},
     "output_type": "display_data"
    },
    {
     "data": {
      "text/plain": "  0%|          | 0/41 [00:00<?, ?it/s]",
      "application/vnd.jupyter.widget-view+json": {
       "version_major": 2,
       "version_minor": 0,
       "model_id": "19b69d1b83354d20ad460c8b5007be7d"
      }
     },
     "metadata": {},
     "output_type": "display_data"
    },
    {
     "data": {
      "text/plain": "  0%|          | 0/23 [00:00<?, ?it/s]",
      "application/vnd.jupyter.widget-view+json": {
       "version_major": 2,
       "version_minor": 0,
       "model_id": "f2499b2055734c8f8afc37ab06321820"
      }
     },
     "metadata": {},
     "output_type": "display_data"
    },
    {
     "data": {
      "text/plain": "  0%|          | 0/21 [00:00<?, ?it/s]",
      "application/vnd.jupyter.widget-view+json": {
       "version_major": 2,
       "version_minor": 0,
       "model_id": "f02704a4f24a4d21b555a588f8294d69"
      }
     },
     "metadata": {},
     "output_type": "display_data"
    },
    {
     "data": {
      "text/plain": "  0%|          | 0/22 [00:00<?, ?it/s]",
      "application/vnd.jupyter.widget-view+json": {
       "version_major": 2,
       "version_minor": 0,
       "model_id": "67894ef82a8645eaaaaac0f061063ad3"
      }
     },
     "metadata": {},
     "output_type": "display_data"
    },
    {
     "data": {
      "text/plain": "  0%|          | 0/23 [00:00<?, ?it/s]",
      "application/vnd.jupyter.widget-view+json": {
       "version_major": 2,
       "version_minor": 0,
       "model_id": "24164357b2a64922ae26dc4e3e56fa8f"
      }
     },
     "metadata": {},
     "output_type": "display_data"
    },
    {
     "data": {
      "text/plain": "  0%|          | 0/20 [00:00<?, ?it/s]",
      "application/vnd.jupyter.widget-view+json": {
       "version_major": 2,
       "version_minor": 0,
       "model_id": "d51184a1352f4ac8a62970af597b6ab6"
      }
     },
     "metadata": {},
     "output_type": "display_data"
    },
    {
     "data": {
      "text/plain": "  0%|          | 0/20 [00:00<?, ?it/s]",
      "application/vnd.jupyter.widget-view+json": {
       "version_major": 2,
       "version_minor": 0,
       "model_id": "46c6ae1622654d269b8306292e48773f"
      }
     },
     "metadata": {},
     "output_type": "display_data"
    },
    {
     "data": {
      "text/plain": "0it [00:00, ?it/s]",
      "application/vnd.jupyter.widget-view+json": {
       "version_major": 2,
       "version_minor": 0,
       "model_id": "61e434d87d554f9c83ffa7da34dba652"
      }
     },
     "metadata": {},
     "output_type": "display_data"
    },
    {
     "data": {
      "text/plain": "0it [00:00, ?it/s]",
      "application/vnd.jupyter.widget-view+json": {
       "version_major": 2,
       "version_minor": 0,
       "model_id": "041375c24a8f4dc6a2b9e835413177ba"
      }
     },
     "metadata": {},
     "output_type": "display_data"
    },
    {
     "data": {
      "text/plain": "                                             event_link  \\\n0     /agenda/eventodetalle/37023/reyes-magos-en-nue...   \n1     /agenda/eventodetalle/33075/arte-contemporaneo...   \n2     /agenda/eventodetalle/33088/arte-contemporaneo...   \n3     /agenda/eventodetalle/36845/concurso-cartel-an...   \n4     /agenda/eventodetalle/37003/parque-magico-de-n...   \n...                                                 ...   \n1848  /agenda/eventodetalle/48120/abstraccion-americ...   \n1849  /agenda/eventodetalle/48126/abstraccion-americ...   \n1850  /agenda/eventodetalle/48109/abstraccion-americ...   \n1851  /agenda/eventodetalle/48119/abstraccion-americ...   \n1852  /agenda/eventodetalle/48107/abstraccion-americ...   \n\n                                                  title  \\\n0                                                   NaN   \n1     Arte contemporáneo en Oaxaca. Vanguardia, mito...   \n2     Arte contemporáneo en Oaxaca. Vanguardia, mito...   \n3     Concurso Cartel Anunciador Carnaval Marbella 2023   \n4                              Parque Mágico de Navidad   \n...                                                 ...   \n1848               Abstracción Americana, Carlos Mérida   \n1849               Abstracción Americana, Carlos Mérida   \n1850               Abstracción Americana, Carlos Mérida   \n1851               Abstracción Americana, Carlos Mérida   \n1852               Abstracción Americana, Carlos Mérida   \n\n                                 category  \\\n0                                     NaN   \n1       Exposiciones, Cultura y Enseñanza   \n2       Exposiciones, Cultura y Enseñanza   \n3                      Concursos, Fiestas   \n4     Fiestas, Ferias y Verbenas, Fiestas   \n...                                   ...   \n1848    Exposiciones, Cultura y Enseñanza   \n1849    Exposiciones, Cultura y Enseñanza   \n1850    Exposiciones, Cultura y Enseñanza   \n1851    Exposiciones, Cultura y Enseñanza   \n1852    Exposiciones, Cultura y Enseñanza   \n\n                                  datetime     views  longitude   latitude  \\\n0                                      NaN       NaN        NaN        NaN   \n1        Jueves, 12 Enero 2023,10:00-15:00  187973.0  -4.940957  36.498058   \n2        Martes, 31 Enero 2023,10:00-15:00  187974.0  -4.940957  36.498058   \n3                 Miércoles, 04 Enero 2023   22303.0        NaN        NaN   \n4             Domingo, 01 Enero 2023,11:00    8596.0        NaN        NaN   \n...                                    ...       ...        ...        ...   \n1848  Viernes, 18 Octubre 2024,10:00-15:00    1426.0  -4.940957  36.498058   \n1849   Sábado, 26 Octubre 2024,10:00-15:00    1427.0  -4.940957  36.498058   \n1850   Jueves, 03 Octubre 2024,10:00-15:00    1428.0  -4.940957  36.498058   \n1851   Jueves, 17 Octubre 2024,10:00-15:00    1429.0  -4.940957  36.498058   \n1852   Martes, 01 Octubre 2024,10:00-15:00    1430.0  -4.940957  36.498058   \n\n                           place_name  \n0                                 NaN  \n1     lugares/detail/57/0/museo-ralli  \n2     lugares/detail/57/0/museo-ralli  \n3                                 NaN  \n4                                 NaN  \n...                               ...  \n1848  lugares/detail/57/0/museo-ralli  \n1849  lugares/detail/57/0/museo-ralli  \n1850  lugares/detail/57/0/museo-ralli  \n1851  lugares/detail/57/0/museo-ralli  \n1852  lugares/detail/57/0/museo-ralli  \n\n[1853 rows x 8 columns]",
      "text/html": "<div>\n<style scoped>\n    .dataframe tbody tr th:only-of-type {\n        vertical-align: middle;\n    }\n\n    .dataframe tbody tr th {\n        vertical-align: top;\n    }\n\n    .dataframe thead th {\n        text-align: right;\n    }\n</style>\n<table border=\"1\" class=\"dataframe\">\n  <thead>\n    <tr style=\"text-align: right;\">\n      <th></th>\n      <th>event_link</th>\n      <th>title</th>\n      <th>category</th>\n      <th>datetime</th>\n      <th>views</th>\n      <th>longitude</th>\n      <th>latitude</th>\n      <th>place_name</th>\n    </tr>\n  </thead>\n  <tbody>\n    <tr>\n      <th>0</th>\n      <td>/agenda/eventodetalle/37023/reyes-magos-en-nue...</td>\n      <td>NaN</td>\n      <td>NaN</td>\n      <td>NaN</td>\n      <td>NaN</td>\n      <td>NaN</td>\n      <td>NaN</td>\n      <td>NaN</td>\n    </tr>\n    <tr>\n      <th>1</th>\n      <td>/agenda/eventodetalle/33075/arte-contemporaneo...</td>\n      <td>Arte contemporáneo en Oaxaca. Vanguardia, mito...</td>\n      <td>Exposiciones, Cultura y Enseñanza</td>\n      <td>Jueves, 12 Enero 2023,10:00-15:00</td>\n      <td>187973.0</td>\n      <td>-4.940957</td>\n      <td>36.498058</td>\n      <td>lugares/detail/57/0/museo-ralli</td>\n    </tr>\n    <tr>\n      <th>2</th>\n      <td>/agenda/eventodetalle/33088/arte-contemporaneo...</td>\n      <td>Arte contemporáneo en Oaxaca. Vanguardia, mito...</td>\n      <td>Exposiciones, Cultura y Enseñanza</td>\n      <td>Martes, 31 Enero 2023,10:00-15:00</td>\n      <td>187974.0</td>\n      <td>-4.940957</td>\n      <td>36.498058</td>\n      <td>lugares/detail/57/0/museo-ralli</td>\n    </tr>\n    <tr>\n      <th>3</th>\n      <td>/agenda/eventodetalle/36845/concurso-cartel-an...</td>\n      <td>Concurso Cartel Anunciador Carnaval Marbella 2023</td>\n      <td>Concursos, Fiestas</td>\n      <td>Miércoles, 04 Enero 2023</td>\n      <td>22303.0</td>\n      <td>NaN</td>\n      <td>NaN</td>\n      <td>NaN</td>\n    </tr>\n    <tr>\n      <th>4</th>\n      <td>/agenda/eventodetalle/37003/parque-magico-de-n...</td>\n      <td>Parque Mágico de Navidad</td>\n      <td>Fiestas, Ferias y Verbenas, Fiestas</td>\n      <td>Domingo, 01 Enero 2023,11:00</td>\n      <td>8596.0</td>\n      <td>NaN</td>\n      <td>NaN</td>\n      <td>NaN</td>\n    </tr>\n    <tr>\n      <th>...</th>\n      <td>...</td>\n      <td>...</td>\n      <td>...</td>\n      <td>...</td>\n      <td>...</td>\n      <td>...</td>\n      <td>...</td>\n      <td>...</td>\n    </tr>\n    <tr>\n      <th>1848</th>\n      <td>/agenda/eventodetalle/48120/abstraccion-americ...</td>\n      <td>Abstracción Americana, Carlos Mérida</td>\n      <td>Exposiciones, Cultura y Enseñanza</td>\n      <td>Viernes, 18 Octubre 2024,10:00-15:00</td>\n      <td>1426.0</td>\n      <td>-4.940957</td>\n      <td>36.498058</td>\n      <td>lugares/detail/57/0/museo-ralli</td>\n    </tr>\n    <tr>\n      <th>1849</th>\n      <td>/agenda/eventodetalle/48126/abstraccion-americ...</td>\n      <td>Abstracción Americana, Carlos Mérida</td>\n      <td>Exposiciones, Cultura y Enseñanza</td>\n      <td>Sábado, 26 Octubre 2024,10:00-15:00</td>\n      <td>1427.0</td>\n      <td>-4.940957</td>\n      <td>36.498058</td>\n      <td>lugares/detail/57/0/museo-ralli</td>\n    </tr>\n    <tr>\n      <th>1850</th>\n      <td>/agenda/eventodetalle/48109/abstraccion-americ...</td>\n      <td>Abstracción Americana, Carlos Mérida</td>\n      <td>Exposiciones, Cultura y Enseñanza</td>\n      <td>Jueves, 03 Octubre 2024,10:00-15:00</td>\n      <td>1428.0</td>\n      <td>-4.940957</td>\n      <td>36.498058</td>\n      <td>lugares/detail/57/0/museo-ralli</td>\n    </tr>\n    <tr>\n      <th>1851</th>\n      <td>/agenda/eventodetalle/48119/abstraccion-americ...</td>\n      <td>Abstracción Americana, Carlos Mérida</td>\n      <td>Exposiciones, Cultura y Enseñanza</td>\n      <td>Jueves, 17 Octubre 2024,10:00-15:00</td>\n      <td>1429.0</td>\n      <td>-4.940957</td>\n      <td>36.498058</td>\n      <td>lugares/detail/57/0/museo-ralli</td>\n    </tr>\n    <tr>\n      <th>1852</th>\n      <td>/agenda/eventodetalle/48107/abstraccion-americ...</td>\n      <td>Abstracción Americana, Carlos Mérida</td>\n      <td>Exposiciones, Cultura y Enseñanza</td>\n      <td>Martes, 01 Octubre 2024,10:00-15:00</td>\n      <td>1430.0</td>\n      <td>-4.940957</td>\n      <td>36.498058</td>\n      <td>lugares/detail/57/0/museo-ralli</td>\n    </tr>\n  </tbody>\n</table>\n<p>1853 rows × 8 columns</p>\n</div>"
     },
     "execution_count": 21,
     "metadata": {},
     "output_type": "execute_result"
    }
   ],
   "source": [
    "from itertools import product\n",
    "\n",
    "dfs = []\n",
    "for year, month in tqdm(product(range(2023, 2025), range(1, 13))):\n",
    "    dfs.append(get_all_month_events(year, month))\n",
    "\n",
    "df = pd.concat(dfs, ignore_index=True)\n",
    "df"
   ],
   "metadata": {
    "collapsed": false,
    "ExecuteTime": {
     "start_time": "2023-04-11T20:21:40.382978Z",
     "end_time": "2023-04-11T20:55:40.389476Z"
    }
   }
  },
  {
   "cell_type": "code",
   "execution_count": 22,
   "outputs": [],
   "source": [
    "df.to_csv('marbella_events_2023_2024.csv')"
   ],
   "metadata": {
    "collapsed": false,
    "ExecuteTime": {
     "start_time": "2023-04-11T20:56:48.572267Z",
     "end_time": "2023-04-11T20:56:48.609578Z"
    }
   }
  },
  {
   "cell_type": "code",
   "execution_count": null,
   "outputs": [],
   "source": [],
   "metadata": {
    "collapsed": false
   }
  }
 ],
 "metadata": {
  "kernelspec": {
   "display_name": "Python 3",
   "language": "python",
   "name": "python3"
  },
  "language_info": {
   "codemirror_mode": {
    "name": "ipython",
    "version": 2
   },
   "file_extension": ".py",
   "mimetype": "text/x-python",
   "name": "python",
   "nbconvert_exporter": "python",
   "pygments_lexer": "ipython2",
   "version": "2.7.6"
  }
 },
 "nbformat": 4,
 "nbformat_minor": 0
}
